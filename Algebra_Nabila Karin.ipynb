{
 "cells": [
  {
   "cell_type": "code",
   "execution_count": 1,
   "id": "2638dab4",
   "metadata": {},
   "outputs": [],
   "source": [
    "import pandas as pd"
   ]
  },
  {
   "cell_type": "code",
   "execution_count": 2,
   "id": "c0532118",
   "metadata": {},
   "outputs": [],
   "source": [
    "import pandas as pd\n",
    "\n",
    "# Buat data dummy\n",
    "df = pd.DataFrame({\n",
    "    'Nama': ['Ani', 'Budi', 'Cici', 'Deni', 'Eka', 'Fani', 'Gilang', 'Hana', 'Indra', 'Joko'],\n",
    "    'Nilai_50': [35, 40, 45, 20, 25, 30, 50, 10, 15, 43],\n",
    "    'Kehadiran': [18, 20, 19, 12, 15, 17, 20, 8, 10, 19],\n",
    "    'Tugas': [8, 10, 9, 5, 6, 7, 10, 3, 4, 9],\n",
    "    'Lulus': [1, 1, 1, 0, 0, 0, 1, 0, 0, 1]\n",
    "})\n",
    "\n"
   ]
  },
  {
   "cell_type": "code",
   "execution_count": 3,
   "id": "b2f9a7c6",
   "metadata": {},
   "outputs": [
    {
     "data": {
      "application/vnd.microsoft.datawrangler.viewer.v0+json": {
       "columns": [
        {
         "name": "index",
         "rawType": "int64",
         "type": "integer"
        },
        {
         "name": "Nama",
         "rawType": "object",
         "type": "string"
        },
        {
         "name": "Nilai_50",
         "rawType": "int64",
         "type": "integer"
        },
        {
         "name": "Kehadiran",
         "rawType": "int64",
         "type": "integer"
        },
        {
         "name": "Tugas",
         "rawType": "int64",
         "type": "integer"
        },
        {
         "name": "Lulus",
         "rawType": "int64",
         "type": "integer"
        }
       ],
       "ref": "2f7d99b9-49c9-4c39-9e63-dd863279087f",
       "rows": [
        [
         "0",
         "Ani",
         "35",
         "18",
         "8",
         "1"
        ],
        [
         "1",
         "Budi",
         "40",
         "20",
         "10",
         "1"
        ],
        [
         "2",
         "Cici",
         "45",
         "19",
         "9",
         "1"
        ],
        [
         "3",
         "Deni",
         "20",
         "12",
         "5",
         "0"
        ],
        [
         "4",
         "Eka",
         "25",
         "15",
         "6",
         "0"
        ],
        [
         "5",
         "Fani",
         "30",
         "17",
         "7",
         "0"
        ],
        [
         "6",
         "Gilang",
         "50",
         "20",
         "10",
         "1"
        ],
        [
         "7",
         "Hana",
         "10",
         "8",
         "3",
         "0"
        ],
        [
         "8",
         "Indra",
         "15",
         "10",
         "4",
         "0"
        ],
        [
         "9",
         "Joko",
         "43",
         "19",
         "9",
         "1"
        ]
       ],
       "shape": {
        "columns": 5,
        "rows": 10
       }
      },
      "text/html": [
       "<div>\n",
       "<style scoped>\n",
       "    .dataframe tbody tr th:only-of-type {\n",
       "        vertical-align: middle;\n",
       "    }\n",
       "\n",
       "    .dataframe tbody tr th {\n",
       "        vertical-align: top;\n",
       "    }\n",
       "\n",
       "    .dataframe thead th {\n",
       "        text-align: right;\n",
       "    }\n",
       "</style>\n",
       "<table border=\"1\" class=\"dataframe\">\n",
       "  <thead>\n",
       "    <tr style=\"text-align: right;\">\n",
       "      <th></th>\n",
       "      <th>Nama</th>\n",
       "      <th>Nilai_50</th>\n",
       "      <th>Kehadiran</th>\n",
       "      <th>Tugas</th>\n",
       "      <th>Lulus</th>\n",
       "    </tr>\n",
       "  </thead>\n",
       "  <tbody>\n",
       "    <tr>\n",
       "      <th>0</th>\n",
       "      <td>Ani</td>\n",
       "      <td>35</td>\n",
       "      <td>18</td>\n",
       "      <td>8</td>\n",
       "      <td>1</td>\n",
       "    </tr>\n",
       "    <tr>\n",
       "      <th>1</th>\n",
       "      <td>Budi</td>\n",
       "      <td>40</td>\n",
       "      <td>20</td>\n",
       "      <td>10</td>\n",
       "      <td>1</td>\n",
       "    </tr>\n",
       "    <tr>\n",
       "      <th>2</th>\n",
       "      <td>Cici</td>\n",
       "      <td>45</td>\n",
       "      <td>19</td>\n",
       "      <td>9</td>\n",
       "      <td>1</td>\n",
       "    </tr>\n",
       "    <tr>\n",
       "      <th>3</th>\n",
       "      <td>Deni</td>\n",
       "      <td>20</td>\n",
       "      <td>12</td>\n",
       "      <td>5</td>\n",
       "      <td>0</td>\n",
       "    </tr>\n",
       "    <tr>\n",
       "      <th>4</th>\n",
       "      <td>Eka</td>\n",
       "      <td>25</td>\n",
       "      <td>15</td>\n",
       "      <td>6</td>\n",
       "      <td>0</td>\n",
       "    </tr>\n",
       "    <tr>\n",
       "      <th>5</th>\n",
       "      <td>Fani</td>\n",
       "      <td>30</td>\n",
       "      <td>17</td>\n",
       "      <td>7</td>\n",
       "      <td>0</td>\n",
       "    </tr>\n",
       "    <tr>\n",
       "      <th>6</th>\n",
       "      <td>Gilang</td>\n",
       "      <td>50</td>\n",
       "      <td>20</td>\n",
       "      <td>10</td>\n",
       "      <td>1</td>\n",
       "    </tr>\n",
       "    <tr>\n",
       "      <th>7</th>\n",
       "      <td>Hana</td>\n",
       "      <td>10</td>\n",
       "      <td>8</td>\n",
       "      <td>3</td>\n",
       "      <td>0</td>\n",
       "    </tr>\n",
       "    <tr>\n",
       "      <th>8</th>\n",
       "      <td>Indra</td>\n",
       "      <td>15</td>\n",
       "      <td>10</td>\n",
       "      <td>4</td>\n",
       "      <td>0</td>\n",
       "    </tr>\n",
       "    <tr>\n",
       "      <th>9</th>\n",
       "      <td>Joko</td>\n",
       "      <td>43</td>\n",
       "      <td>19</td>\n",
       "      <td>9</td>\n",
       "      <td>1</td>\n",
       "    </tr>\n",
       "  </tbody>\n",
       "</table>\n",
       "</div>"
      ],
      "text/plain": [
       "     Nama  Nilai_50  Kehadiran  Tugas  Lulus\n",
       "0     Ani        35         18      8      1\n",
       "1    Budi        40         20     10      1\n",
       "2    Cici        45         19      9      1\n",
       "3    Deni        20         12      5      0\n",
       "4     Eka        25         15      6      0\n",
       "5    Fani        30         17      7      0\n",
       "6  Gilang        50         20     10      1\n",
       "7    Hana        10          8      3      0\n",
       "8   Indra        15         10      4      0\n",
       "9    Joko        43         19      9      1"
      ]
     },
     "execution_count": 3,
     "metadata": {},
     "output_type": "execute_result"
    }
   ],
   "source": [
    "df"
   ]
  },
  {
   "cell_type": "code",
   "execution_count": null,
   "id": "19705eb0",
   "metadata": {},
   "outputs": [
    {
     "data": {
      "application/vnd.microsoft.datawrangler.viewer.v0+json": {
       "columns": [
        {
         "name": "index",
         "rawType": "int64",
         "type": "integer"
        },
        {
         "name": "Nama",
         "rawType": "object",
         "type": "string"
        },
        {
         "name": "Nilai_50",
         "rawType": "int64",
         "type": "integer"
        },
        {
         "name": "Kehadiran",
         "rawType": "int64",
         "type": "integer"
        },
        {
         "name": "Tugas",
         "rawType": "int64",
         "type": "integer"
        },
        {
         "name": "Lulus",
         "rawType": "int64",
         "type": "integer"
        },
        {
         "name": "Nilai_100",
         "rawType": "int64",
         "type": "integer"
        },
        {
         "name": "Nilai_100_Scaled",
         "rawType": "float64",
         "type": "float"
        }
       ],
       "ref": "9b0ec115-7ea3-4e73-9175-74d8a54f51fa",
       "rows": [
        [
         "0",
         "Ani",
         "35",
         "18",
         "8",
         "1",
         "70",
         "0.625"
        ],
        [
         "1",
         "Budi",
         "40",
         "20",
         "10",
         "1",
         "80",
         "0.75"
        ],
        [
         "2",
         "Cici",
         "45",
         "19",
         "9",
         "1",
         "90",
         "0.875"
        ],
        [
         "3",
         "Deni",
         "20",
         "12",
         "5",
         "0",
         "40",
         "0.25"
        ],
        [
         "4",
         "Eka",
         "25",
         "15",
         "6",
         "0",
         "50",
         "0.375"
        ],
        [
         "5",
         "Fani",
         "30",
         "17",
         "7",
         "0",
         "60",
         "0.5"
        ],
        [
         "6",
         "Gilang",
         "50",
         "20",
         "10",
         "1",
         "100",
         "1.0"
        ],
        [
         "7",
         "Hana",
         "10",
         "8",
         "3",
         "0",
         "20",
         "0.0"
        ],
        [
         "8",
         "Indra",
         "15",
         "10",
         "4",
         "0",
         "30",
         "0.125"
        ],
        [
         "9",
         "Joko",
         "43",
         "19",
         "9",
         "1",
         "86",
         "0.825"
        ]
       ],
       "shape": {
        "columns": 7,
        "rows": 10
       }
      },
      "text/html": [
       "<div>\n",
       "<style scoped>\n",
       "    .dataframe tbody tr th:only-of-type {\n",
       "        vertical-align: middle;\n",
       "    }\n",
       "\n",
       "    .dataframe tbody tr th {\n",
       "        vertical-align: top;\n",
       "    }\n",
       "\n",
       "    .dataframe thead th {\n",
       "        text-align: right;\n",
       "    }\n",
       "</style>\n",
       "<table border=\"1\" class=\"dataframe\">\n",
       "  <thead>\n",
       "    <tr style=\"text-align: right;\">\n",
       "      <th></th>\n",
       "      <th>Nama</th>\n",
       "      <th>Nilai_50</th>\n",
       "      <th>Kehadiran</th>\n",
       "      <th>Tugas</th>\n",
       "      <th>Lulus</th>\n",
       "      <th>Nilai_100</th>\n",
       "      <th>Nilai_100_Scaled</th>\n",
       "    </tr>\n",
       "  </thead>\n",
       "  <tbody>\n",
       "    <tr>\n",
       "      <th>0</th>\n",
       "      <td>Ani</td>\n",
       "      <td>35</td>\n",
       "      <td>18</td>\n",
       "      <td>8</td>\n",
       "      <td>1</td>\n",
       "      <td>70</td>\n",
       "      <td>0.625</td>\n",
       "    </tr>\n",
       "    <tr>\n",
       "      <th>1</th>\n",
       "      <td>Budi</td>\n",
       "      <td>40</td>\n",
       "      <td>20</td>\n",
       "      <td>10</td>\n",
       "      <td>1</td>\n",
       "      <td>80</td>\n",
       "      <td>0.750</td>\n",
       "    </tr>\n",
       "    <tr>\n",
       "      <th>2</th>\n",
       "      <td>Cici</td>\n",
       "      <td>45</td>\n",
       "      <td>19</td>\n",
       "      <td>9</td>\n",
       "      <td>1</td>\n",
       "      <td>90</td>\n",
       "      <td>0.875</td>\n",
       "    </tr>\n",
       "    <tr>\n",
       "      <th>3</th>\n",
       "      <td>Deni</td>\n",
       "      <td>20</td>\n",
       "      <td>12</td>\n",
       "      <td>5</td>\n",
       "      <td>0</td>\n",
       "      <td>40</td>\n",
       "      <td>0.250</td>\n",
       "    </tr>\n",
       "    <tr>\n",
       "      <th>4</th>\n",
       "      <td>Eka</td>\n",
       "      <td>25</td>\n",
       "      <td>15</td>\n",
       "      <td>6</td>\n",
       "      <td>0</td>\n",
       "      <td>50</td>\n",
       "      <td>0.375</td>\n",
       "    </tr>\n",
       "    <tr>\n",
       "      <th>5</th>\n",
       "      <td>Fani</td>\n",
       "      <td>30</td>\n",
       "      <td>17</td>\n",
       "      <td>7</td>\n",
       "      <td>0</td>\n",
       "      <td>60</td>\n",
       "      <td>0.500</td>\n",
       "    </tr>\n",
       "    <tr>\n",
       "      <th>6</th>\n",
       "      <td>Gilang</td>\n",
       "      <td>50</td>\n",
       "      <td>20</td>\n",
       "      <td>10</td>\n",
       "      <td>1</td>\n",
       "      <td>100</td>\n",
       "      <td>1.000</td>\n",
       "    </tr>\n",
       "    <tr>\n",
       "      <th>7</th>\n",
       "      <td>Hana</td>\n",
       "      <td>10</td>\n",
       "      <td>8</td>\n",
       "      <td>3</td>\n",
       "      <td>0</td>\n",
       "      <td>20</td>\n",
       "      <td>0.000</td>\n",
       "    </tr>\n",
       "    <tr>\n",
       "      <th>8</th>\n",
       "      <td>Indra</td>\n",
       "      <td>15</td>\n",
       "      <td>10</td>\n",
       "      <td>4</td>\n",
       "      <td>0</td>\n",
       "      <td>30</td>\n",
       "      <td>0.125</td>\n",
       "    </tr>\n",
       "    <tr>\n",
       "      <th>9</th>\n",
       "      <td>Joko</td>\n",
       "      <td>43</td>\n",
       "      <td>19</td>\n",
       "      <td>9</td>\n",
       "      <td>1</td>\n",
       "      <td>86</td>\n",
       "      <td>0.825</td>\n",
       "    </tr>\n",
       "  </tbody>\n",
       "</table>\n",
       "</div>"
      ],
      "text/plain": [
       "     Nama  Nilai_50  Kehadiran  Tugas  Lulus  Nilai_100  Nilai_100_Scaled\n",
       "0     Ani        35         18      8      1         70             0.625\n",
       "1    Budi        40         20     10      1         80             0.750\n",
       "2    Cici        45         19      9      1         90             0.875\n",
       "3    Deni        20         12      5      0         40             0.250\n",
       "4     Eka        25         15      6      0         50             0.375\n",
       "5    Fani        30         17      7      0         60             0.500\n",
       "6  Gilang        50         20     10      1        100             1.000\n",
       "7    Hana        10          8      3      0         20             0.000\n",
       "8   Indra        15         10      4      0         30             0.125\n",
       "9    Joko        43         19      9      1         86             0.825"
      ]
     },
     "execution_count": 8,
     "metadata": {},
     "output_type": "execute_result"
    }
   ],
   "source": [
    "\n",
    "# 1. TL Manual: Ubah nilai ke skala 100\n",
    "df['Nilai_100'] = df['Nilai_50'].mul(2).add(0)"
   ]
  },
  {
   "cell_type": "code",
   "execution_count": 5,
   "id": "8a4968ab",
   "metadata": {},
   "outputs": [],
   "source": [
    "# 2. TL Scaling: Min-max scaling pada Nilai_100\n",
    "df['Nilai_100_Scaled'] = (df['Nilai_100'] - df['Nilai_100'].min()) / (df['Nilai_100'].max() - df['Nilai_100'].min())"
   ]
  },
  {
   "cell_type": "code",
   "execution_count": null,
   "id": "9bc019c9",
   "metadata": {},
   "outputs": [],
   "source": [
    "y = a - amin / amax  - amin"
   ]
  },
  {
   "cell_type": "code",
   "execution_count": 6,
   "id": "be9ce2f9",
   "metadata": {},
   "outputs": [
    {
     "data": {
      "application/vnd.microsoft.datawrangler.viewer.v0+json": {
       "columns": [
        {
         "name": "index",
         "rawType": "int64",
         "type": "integer"
        },
        {
         "name": "Nama",
         "rawType": "object",
         "type": "string"
        },
        {
         "name": "Nilai_50",
         "rawType": "int64",
         "type": "integer"
        },
        {
         "name": "Kehadiran",
         "rawType": "int64",
         "type": "integer"
        },
        {
         "name": "Tugas",
         "rawType": "int64",
         "type": "integer"
        },
        {
         "name": "Lulus",
         "rawType": "int64",
         "type": "integer"
        },
        {
         "name": "Nilai_100",
         "rawType": "int64",
         "type": "integer"
        },
        {
         "name": "Nilai_100_Scaled",
         "rawType": "float64",
         "type": "float"
        }
       ],
       "ref": "f13af5d2-e58a-40a6-877e-9cf6ac177af3",
       "rows": [
        [
         "0",
         "Ani",
         "35",
         "18",
         "8",
         "1",
         "70",
         "0.625"
        ],
        [
         "1",
         "Budi",
         "40",
         "20",
         "10",
         "1",
         "80",
         "0.75"
        ],
        [
         "2",
         "Cici",
         "45",
         "19",
         "9",
         "1",
         "90",
         "0.875"
        ],
        [
         "3",
         "Deni",
         "20",
         "12",
         "5",
         "0",
         "40",
         "0.25"
        ],
        [
         "4",
         "Eka",
         "25",
         "15",
         "6",
         "0",
         "50",
         "0.375"
        ],
        [
         "5",
         "Fani",
         "30",
         "17",
         "7",
         "0",
         "60",
         "0.5"
        ],
        [
         "6",
         "Gilang",
         "50",
         "20",
         "10",
         "1",
         "100",
         "1.0"
        ],
        [
         "7",
         "Hana",
         "10",
         "8",
         "3",
         "0",
         "20",
         "0.0"
        ],
        [
         "8",
         "Indra",
         "15",
         "10",
         "4",
         "0",
         "30",
         "0.125"
        ],
        [
         "9",
         "Joko",
         "43",
         "19",
         "9",
         "1",
         "86",
         "0.825"
        ]
       ],
       "shape": {
        "columns": 7,
        "rows": 10
       }
      },
      "text/html": [
       "<div>\n",
       "<style scoped>\n",
       "    .dataframe tbody tr th:only-of-type {\n",
       "        vertical-align: middle;\n",
       "    }\n",
       "\n",
       "    .dataframe tbody tr th {\n",
       "        vertical-align: top;\n",
       "    }\n",
       "\n",
       "    .dataframe thead th {\n",
       "        text-align: right;\n",
       "    }\n",
       "</style>\n",
       "<table border=\"1\" class=\"dataframe\">\n",
       "  <thead>\n",
       "    <tr style=\"text-align: right;\">\n",
       "      <th></th>\n",
       "      <th>Nama</th>\n",
       "      <th>Nilai_50</th>\n",
       "      <th>Kehadiran</th>\n",
       "      <th>Tugas</th>\n",
       "      <th>Lulus</th>\n",
       "      <th>Nilai_100</th>\n",
       "      <th>Nilai_100_Scaled</th>\n",
       "    </tr>\n",
       "  </thead>\n",
       "  <tbody>\n",
       "    <tr>\n",
       "      <th>0</th>\n",
       "      <td>Ani</td>\n",
       "      <td>35</td>\n",
       "      <td>18</td>\n",
       "      <td>8</td>\n",
       "      <td>1</td>\n",
       "      <td>70</td>\n",
       "      <td>0.625</td>\n",
       "    </tr>\n",
       "    <tr>\n",
       "      <th>1</th>\n",
       "      <td>Budi</td>\n",
       "      <td>40</td>\n",
       "      <td>20</td>\n",
       "      <td>10</td>\n",
       "      <td>1</td>\n",
       "      <td>80</td>\n",
       "      <td>0.750</td>\n",
       "    </tr>\n",
       "    <tr>\n",
       "      <th>2</th>\n",
       "      <td>Cici</td>\n",
       "      <td>45</td>\n",
       "      <td>19</td>\n",
       "      <td>9</td>\n",
       "      <td>1</td>\n",
       "      <td>90</td>\n",
       "      <td>0.875</td>\n",
       "    </tr>\n",
       "    <tr>\n",
       "      <th>3</th>\n",
       "      <td>Deni</td>\n",
       "      <td>20</td>\n",
       "      <td>12</td>\n",
       "      <td>5</td>\n",
       "      <td>0</td>\n",
       "      <td>40</td>\n",
       "      <td>0.250</td>\n",
       "    </tr>\n",
       "    <tr>\n",
       "      <th>4</th>\n",
       "      <td>Eka</td>\n",
       "      <td>25</td>\n",
       "      <td>15</td>\n",
       "      <td>6</td>\n",
       "      <td>0</td>\n",
       "      <td>50</td>\n",
       "      <td>0.375</td>\n",
       "    </tr>\n",
       "    <tr>\n",
       "      <th>5</th>\n",
       "      <td>Fani</td>\n",
       "      <td>30</td>\n",
       "      <td>17</td>\n",
       "      <td>7</td>\n",
       "      <td>0</td>\n",
       "      <td>60</td>\n",
       "      <td>0.500</td>\n",
       "    </tr>\n",
       "    <tr>\n",
       "      <th>6</th>\n",
       "      <td>Gilang</td>\n",
       "      <td>50</td>\n",
       "      <td>20</td>\n",
       "      <td>10</td>\n",
       "      <td>1</td>\n",
       "      <td>100</td>\n",
       "      <td>1.000</td>\n",
       "    </tr>\n",
       "    <tr>\n",
       "      <th>7</th>\n",
       "      <td>Hana</td>\n",
       "      <td>10</td>\n",
       "      <td>8</td>\n",
       "      <td>3</td>\n",
       "      <td>0</td>\n",
       "      <td>20</td>\n",
       "      <td>0.000</td>\n",
       "    </tr>\n",
       "    <tr>\n",
       "      <th>8</th>\n",
       "      <td>Indra</td>\n",
       "      <td>15</td>\n",
       "      <td>10</td>\n",
       "      <td>4</td>\n",
       "      <td>0</td>\n",
       "      <td>30</td>\n",
       "      <td>0.125</td>\n",
       "    </tr>\n",
       "    <tr>\n",
       "      <th>9</th>\n",
       "      <td>Joko</td>\n",
       "      <td>43</td>\n",
       "      <td>19</td>\n",
       "      <td>9</td>\n",
       "      <td>1</td>\n",
       "      <td>86</td>\n",
       "      <td>0.825</td>\n",
       "    </tr>\n",
       "  </tbody>\n",
       "</table>\n",
       "</div>"
      ],
      "text/plain": [
       "     Nama  Nilai_50  Kehadiran  Tugas  Lulus  Nilai_100  Nilai_100_Scaled\n",
       "0     Ani        35         18      8      1         70             0.625\n",
       "1    Budi        40         20     10      1         80             0.750\n",
       "2    Cici        45         19      9      1         90             0.875\n",
       "3    Deni        20         12      5      0         40             0.250\n",
       "4     Eka        25         15      6      0         50             0.375\n",
       "5    Fani        30         17      7      0         60             0.500\n",
       "6  Gilang        50         20     10      1        100             1.000\n",
       "7    Hana        10          8      3      0         20             0.000\n",
       "8   Indra        15         10      4      0         30             0.125\n",
       "9    Joko        43         19      9      1         86             0.825"
      ]
     },
     "execution_count": 6,
     "metadata": {},
     "output_type": "execute_result"
    }
   ],
   "source": [
    "df"
   ]
  },
  {
   "cell_type": "code",
   "execution_count": null,
   "id": "3ab57588",
   "metadata": {},
   "outputs": [],
   "source": []
  },
  {
   "cell_type": "code",
   "execution_count": 7,
   "id": "bdbde5bd",
   "metadata": {},
   "outputs": [
    {
     "name": "stdout",
     "output_type": "stream",
     "text": [
      "     Nama  Nilai_50  Kehadiran  Tugas  Lulus  Nilai_100  Nilai_100_Scaled\n",
      "0     Ani        35         18      8      1         70             0.625\n",
      "1    Budi        40         20     10      1         80             0.750\n",
      "2    Cici        45         19      9      1         90             0.875\n",
      "3    Deni        20         12      5      0         40             0.250\n",
      "4     Eka        25         15      6      0         50             0.375\n",
      "5    Fani        30         17      7      0         60             0.500\n",
      "6  Gilang        50         20     10      1        100             1.000\n",
      "7    Hana        10          8      3      0         20             0.000\n",
      "8   Indra        15         10      4      0         30             0.125\n",
      "9    Joko        43         19      9      1         86             0.825\n",
      "\n",
      "Korelasi terhadap Kelulusan:\n",
      "Lulus               1.000000\n",
      "Tugas               0.880366\n",
      "Nilai_100           0.879145\n",
      "Nilai_100_Scaled    0.879145\n",
      "Kehadiran           0.820768\n",
      "Name: Lulus, dtype: float64\n"
     ]
    }
   ],
   "source": [
    "# 3. Korelasi terhadap kelulusan\n",
    "corr_matrix = df[['Nilai_100', 'Nilai_100_Scaled', 'Kehadiran', 'Tugas', 'Lulus']].corr()\n",
    "\n",
    "print(df)\n",
    "print(\"\\nKorelasi terhadap Kelulusan:\")\n",
    "print(corr_matrix['Lulus'].sort_values(ascending=False))"
   ]
  },
  {
   "cell_type": "code",
   "execution_count": 9,
   "id": "49048290",
   "metadata": {},
   "outputs": [
    {
     "data": {
      "application/vnd.microsoft.datawrangler.viewer.v0+json": {
       "columns": [
        {
         "name": "index",
         "rawType": "int64",
         "type": "integer"
        },
        {
         "name": "Nama",
         "rawType": "object",
         "type": "string"
        },
        {
         "name": "Nilai_50",
         "rawType": "int64",
         "type": "integer"
        },
        {
         "name": "Kehadiran",
         "rawType": "int64",
         "type": "integer"
        },
        {
         "name": "Tugas",
         "rawType": "int64",
         "type": "integer"
        },
        {
         "name": "Lulus",
         "rawType": "int64",
         "type": "integer"
        },
        {
         "name": "Nilai_100",
         "rawType": "int64",
         "type": "integer"
        },
        {
         "name": "Nilai_100_Scaled",
         "rawType": "float64",
         "type": "float"
        }
       ],
       "ref": "9b40e2bb-2006-4f1c-b51d-5d4b0bc7ad36",
       "rows": [
        [
         "0",
         "Ani",
         "35",
         "18",
         "8",
         "1",
         "70",
         "0.625"
        ],
        [
         "1",
         "Budi",
         "40",
         "20",
         "10",
         "1",
         "80",
         "0.75"
        ],
        [
         "2",
         "Cici",
         "45",
         "19",
         "9",
         "1",
         "90",
         "0.875"
        ],
        [
         "3",
         "Deni",
         "20",
         "12",
         "5",
         "0",
         "40",
         "0.25"
        ],
        [
         "4",
         "Eka",
         "25",
         "15",
         "6",
         "0",
         "50",
         "0.375"
        ],
        [
         "5",
         "Fani",
         "30",
         "17",
         "7",
         "0",
         "60",
         "0.5"
        ],
        [
         "6",
         "Gilang",
         "50",
         "20",
         "10",
         "1",
         "100",
         "1.0"
        ],
        [
         "7",
         "Hana",
         "10",
         "8",
         "3",
         "0",
         "20",
         "0.0"
        ],
        [
         "8",
         "Indra",
         "15",
         "10",
         "4",
         "0",
         "30",
         "0.125"
        ],
        [
         "9",
         "Joko",
         "43",
         "19",
         "9",
         "1",
         "86",
         "0.825"
        ]
       ],
       "shape": {
        "columns": 7,
        "rows": 10
       }
      },
      "text/html": [
       "<div>\n",
       "<style scoped>\n",
       "    .dataframe tbody tr th:only-of-type {\n",
       "        vertical-align: middle;\n",
       "    }\n",
       "\n",
       "    .dataframe tbody tr th {\n",
       "        vertical-align: top;\n",
       "    }\n",
       "\n",
       "    .dataframe thead th {\n",
       "        text-align: right;\n",
       "    }\n",
       "</style>\n",
       "<table border=\"1\" class=\"dataframe\">\n",
       "  <thead>\n",
       "    <tr style=\"text-align: right;\">\n",
       "      <th></th>\n",
       "      <th>Nama</th>\n",
       "      <th>Nilai_50</th>\n",
       "      <th>Kehadiran</th>\n",
       "      <th>Tugas</th>\n",
       "      <th>Lulus</th>\n",
       "      <th>Nilai_100</th>\n",
       "      <th>Nilai_100_Scaled</th>\n",
       "    </tr>\n",
       "  </thead>\n",
       "  <tbody>\n",
       "    <tr>\n",
       "      <th>0</th>\n",
       "      <td>Ani</td>\n",
       "      <td>35</td>\n",
       "      <td>18</td>\n",
       "      <td>8</td>\n",
       "      <td>1</td>\n",
       "      <td>70</td>\n",
       "      <td>0.625</td>\n",
       "    </tr>\n",
       "    <tr>\n",
       "      <th>1</th>\n",
       "      <td>Budi</td>\n",
       "      <td>40</td>\n",
       "      <td>20</td>\n",
       "      <td>10</td>\n",
       "      <td>1</td>\n",
       "      <td>80</td>\n",
       "      <td>0.750</td>\n",
       "    </tr>\n",
       "    <tr>\n",
       "      <th>2</th>\n",
       "      <td>Cici</td>\n",
       "      <td>45</td>\n",
       "      <td>19</td>\n",
       "      <td>9</td>\n",
       "      <td>1</td>\n",
       "      <td>90</td>\n",
       "      <td>0.875</td>\n",
       "    </tr>\n",
       "    <tr>\n",
       "      <th>3</th>\n",
       "      <td>Deni</td>\n",
       "      <td>20</td>\n",
       "      <td>12</td>\n",
       "      <td>5</td>\n",
       "      <td>0</td>\n",
       "      <td>40</td>\n",
       "      <td>0.250</td>\n",
       "    </tr>\n",
       "    <tr>\n",
       "      <th>4</th>\n",
       "      <td>Eka</td>\n",
       "      <td>25</td>\n",
       "      <td>15</td>\n",
       "      <td>6</td>\n",
       "      <td>0</td>\n",
       "      <td>50</td>\n",
       "      <td>0.375</td>\n",
       "    </tr>\n",
       "    <tr>\n",
       "      <th>5</th>\n",
       "      <td>Fani</td>\n",
       "      <td>30</td>\n",
       "      <td>17</td>\n",
       "      <td>7</td>\n",
       "      <td>0</td>\n",
       "      <td>60</td>\n",
       "      <td>0.500</td>\n",
       "    </tr>\n",
       "    <tr>\n",
       "      <th>6</th>\n",
       "      <td>Gilang</td>\n",
       "      <td>50</td>\n",
       "      <td>20</td>\n",
       "      <td>10</td>\n",
       "      <td>1</td>\n",
       "      <td>100</td>\n",
       "      <td>1.000</td>\n",
       "    </tr>\n",
       "    <tr>\n",
       "      <th>7</th>\n",
       "      <td>Hana</td>\n",
       "      <td>10</td>\n",
       "      <td>8</td>\n",
       "      <td>3</td>\n",
       "      <td>0</td>\n",
       "      <td>20</td>\n",
       "      <td>0.000</td>\n",
       "    </tr>\n",
       "    <tr>\n",
       "      <th>8</th>\n",
       "      <td>Indra</td>\n",
       "      <td>15</td>\n",
       "      <td>10</td>\n",
       "      <td>4</td>\n",
       "      <td>0</td>\n",
       "      <td>30</td>\n",
       "      <td>0.125</td>\n",
       "    </tr>\n",
       "    <tr>\n",
       "      <th>9</th>\n",
       "      <td>Joko</td>\n",
       "      <td>43</td>\n",
       "      <td>19</td>\n",
       "      <td>9</td>\n",
       "      <td>1</td>\n",
       "      <td>86</td>\n",
       "      <td>0.825</td>\n",
       "    </tr>\n",
       "  </tbody>\n",
       "</table>\n",
       "</div>"
      ],
      "text/plain": [
       "     Nama  Nilai_50  Kehadiran  Tugas  Lulus  Nilai_100  Nilai_100_Scaled\n",
       "0     Ani        35         18      8      1         70             0.625\n",
       "1    Budi        40         20     10      1         80             0.750\n",
       "2    Cici        45         19      9      1         90             0.875\n",
       "3    Deni        20         12      5      0         40             0.250\n",
       "4     Eka        25         15      6      0         50             0.375\n",
       "5    Fani        30         17      7      0         60             0.500\n",
       "6  Gilang        50         20     10      1        100             1.000\n",
       "7    Hana        10          8      3      0         20             0.000\n",
       "8   Indra        15         10      4      0         30             0.125\n",
       "9    Joko        43         19      9      1         86             0.825"
      ]
     },
     "execution_count": 9,
     "metadata": {},
     "output_type": "execute_result"
    }
   ],
   "source": [
    "df"
   ]
  },
  {
   "cell_type": "code",
   "execution_count": null,
   "id": "3a67cfce",
   "metadata": {},
   "outputs": [],
   "source": []
  }
 ],
 "metadata": {
  "kernelspec": {
   "display_name": "myvenv",
   "language": "python",
   "name": "python3"
  },
  "language_info": {
   "codemirror_mode": {
    "name": "ipython",
    "version": 3
   },
   "file_extension": ".py",
   "mimetype": "text/x-python",
   "name": "python",
   "nbconvert_exporter": "python",
   "pygments_lexer": "ipython3",
   "version": "3.12.10"
  }
 },
 "nbformat": 4,
 "nbformat_minor": 5
}
