{
 "cells": [
  {
   "cell_type": "code",
   "execution_count": 1,
   "id": "9344953e",
   "metadata": {},
   "outputs": [],
   "source": [
    "import pandas as pd\n",
    "import numpy as np\n",
    "import matplotlib.pyplot as plt\n",
    "import statistics as st "
   ]
  },
  {
   "cell_type": "code",
   "execution_count": 2,
   "id": "2567f7d9",
   "metadata": {},
   "outputs": [
    {
     "name": "stdout",
     "output_type": "stream",
     "text": [
      "          order_id  order_date   ship_date       ship_mode    customer_name  \\\n",
      "0     AG-2011-2040  01-01-2011  06-01-2011  Standard Class  Toby Braunhardt   \n",
      "1    IN-2011-47883  01-01-2011  08-01-2011  Standard Class      Joseph Holt   \n",
      "2     HU-2011-1220  01-01-2011  05-01-2011    Second Class    Annie Thurman   \n",
      "3  IT-2011-3647632  01-01-2011  05-01-2011    Second Class     Eugene Moren   \n",
      "4    IN-2011-47883  01-01-2011  08-01-2011  Standard Class      Joseph Holt   \n",
      "\n",
      "       segment            state    country  market   region  ...  \\\n",
      "0     Consumer      Constantine    Algeria  Africa   Africa  ...   \n",
      "1     Consumer  New South Wales  Australia    APAC  Oceania  ...   \n",
      "2     Consumer         Budapest    Hungary    EMEA     EMEA  ...   \n",
      "3  Home Office        Stockholm     Sweden      EU    North  ...   \n",
      "4     Consumer  New South Wales  Australia    APAC  Oceania  ...   \n",
      "\n",
      "          category sub_category                 product_name sales quantity  \\\n",
      "0  Office Supplies      Storage          Tenex Lockers, Blue   408        2   \n",
      "1  Office Supplies     Supplies     Acme Trimmer, High Speed   120        3   \n",
      "2  Office Supplies      Storage      Tenex Box, Single Width    66        4   \n",
      "3  Office Supplies        Paper  Enermax Note Cards, Premium    45        3   \n",
      "4        Furniture  Furnishings   Eldon Light Bulb, Duo Pack   114        5   \n",
      "\n",
      "   discount   profit  shipping_cost  order_priority  year  \n",
      "0       0.0  106.140          35.46          Medium  2011  \n",
      "1       0.1   36.036           9.72          Medium  2011  \n",
      "2       0.0   29.640           8.17            High  2011  \n",
      "3       0.5  -26.055           4.82            High  2011  \n",
      "4       0.1   37.770           4.70          Medium  2011  \n",
      "\n",
      "[5 rows x 21 columns]\n"
     ]
    }
   ],
   "source": [
    "df = pd.read_csv(\"SuperStore_Orders.csv\", encoding='latin1')  # atau cp1252\n",
    "print(df.head())"
   ]
  },
  {
   "cell_type": "code",
   "execution_count": 3,
   "id": "00bbc55a",
   "metadata": {},
   "outputs": [
    {
     "name": "stdout",
     "output_type": "stream",
     "text": [
      "           quantity      discount        profit  shipping_cost          year\n",
      "count  51290.000000  51290.000000  51290.000000   51290.000000  51290.000000\n",
      "mean       3.476545      0.142908     28.641740      26.375915   2012.777208\n",
      "std        2.278766      0.212280    174.424113      57.296804      1.098931\n",
      "min        1.000000      0.000000  -6599.978000       0.000000   2011.000000\n",
      "25%        2.000000      0.000000      0.000000       2.610000   2012.000000\n",
      "50%        3.000000      0.000000      9.240000       7.790000   2013.000000\n",
      "75%        5.000000      0.200000     36.810000      24.450000   2014.000000\n",
      "max       14.000000      0.850000   8399.976000     933.570000   2014.000000\n"
     ]
    }
   ],
   "source": [
    "# Melihat statistik deskriptif\n",
    "print(df.describe())"
   ]
  },
  {
   "cell_type": "code",
   "execution_count": 4,
   "id": "4e630c59",
   "metadata": {},
   "outputs": [
    {
     "name": "stdout",
     "output_type": "stream",
     "text": [
      "order_id          0\n",
      "order_date        0\n",
      "ship_date         0\n",
      "ship_mode         0\n",
      "customer_name     0\n",
      "segment           0\n",
      "state             0\n",
      "country           0\n",
      "market            0\n",
      "region            0\n",
      "product_id        0\n",
      "category          0\n",
      "sub_category      0\n",
      "product_name      0\n",
      "sales             0\n",
      "quantity          0\n",
      "discount          0\n",
      "profit            0\n",
      "shipping_cost     0\n",
      "order_priority    0\n",
      "year              0\n",
      "dtype: int64\n"
     ]
    }
   ],
   "source": [
    "# Mengecek data yang Null\n",
    "print(df.isnull().sum())"
   ]
  },
  {
   "cell_type": "code",
   "execution_count": 5,
   "id": "3f7cf3b0",
   "metadata": {},
   "outputs": [
    {
     "name": "stdout",
     "output_type": "stream",
     "text": [
      "<class 'pandas.core.frame.DataFrame'>\n",
      "RangeIndex: 51290 entries, 0 to 51289\n",
      "Data columns (total 21 columns):\n",
      " #   Column          Non-Null Count  Dtype  \n",
      "---  ------          --------------  -----  \n",
      " 0   order_id        51290 non-null  object \n",
      " 1   order_date      51290 non-null  object \n",
      " 2   ship_date       51290 non-null  object \n",
      " 3   ship_mode       51290 non-null  object \n",
      " 4   customer_name   51290 non-null  object \n",
      " 5   segment         51290 non-null  object \n",
      " 6   state           51290 non-null  object \n",
      " 7   country         51290 non-null  object \n",
      " 8   market          51290 non-null  object \n",
      " 9   region          51290 non-null  object \n",
      " 10  product_id      51290 non-null  object \n",
      " 11  category        51290 non-null  object \n",
      " 12  sub_category    51290 non-null  object \n",
      " 13  product_name    51290 non-null  object \n",
      " 14  sales           51290 non-null  object \n",
      " 15  quantity        51290 non-null  int64  \n",
      " 16  discount        51290 non-null  float64\n",
      " 17  profit          51290 non-null  float64\n",
      " 18  shipping_cost   51290 non-null  float64\n",
      " 19  order_priority  51290 non-null  object \n",
      " 20  year            51290 non-null  int64  \n",
      "dtypes: float64(3), int64(2), object(16)\n",
      "memory usage: 8.2+ MB\n",
      "None\n"
     ]
    }
   ],
   "source": [
    "# Cek tipe data dan jumlah data kosong\n",
    "print(df.info())"
   ]
  },
  {
   "cell_type": "code",
   "execution_count": 6,
   "id": "1955133e",
   "metadata": {},
   "outputs": [
    {
     "data": {
      "application/vnd.microsoft.datawrangler.viewer.v0+json": {
       "columns": [
        {
         "name": "index",
         "rawType": "int64",
         "type": "integer"
        },
        {
         "name": "order_id",
         "rawType": "object",
         "type": "string"
        },
        {
         "name": "order_date",
         "rawType": "object",
         "type": "string"
        },
        {
         "name": "ship_date",
         "rawType": "object",
         "type": "string"
        },
        {
         "name": "ship_mode",
         "rawType": "object",
         "type": "string"
        },
        {
         "name": "customer_name",
         "rawType": "object",
         "type": "string"
        },
        {
         "name": "segment",
         "rawType": "object",
         "type": "string"
        },
        {
         "name": "state",
         "rawType": "object",
         "type": "string"
        },
        {
         "name": "country",
         "rawType": "object",
         "type": "string"
        },
        {
         "name": "market",
         "rawType": "object",
         "type": "string"
        },
        {
         "name": "region",
         "rawType": "object",
         "type": "string"
        },
        {
         "name": "product_id",
         "rawType": "object",
         "type": "string"
        },
        {
         "name": "category",
         "rawType": "object",
         "type": "string"
        },
        {
         "name": "sub_category",
         "rawType": "object",
         "type": "string"
        },
        {
         "name": "product_name",
         "rawType": "object",
         "type": "string"
        },
        {
         "name": "sales",
         "rawType": "object",
         "type": "string"
        },
        {
         "name": "quantity",
         "rawType": "int64",
         "type": "integer"
        },
        {
         "name": "discount",
         "rawType": "float64",
         "type": "float"
        },
        {
         "name": "profit",
         "rawType": "float64",
         "type": "float"
        },
        {
         "name": "shipping_cost",
         "rawType": "float64",
         "type": "float"
        },
        {
         "name": "order_priority",
         "rawType": "object",
         "type": "string"
        },
        {
         "name": "year",
         "rawType": "int64",
         "type": "integer"
        }
       ],
       "ref": "9be97808-d0ad-40ea-9332-55316a3eb353",
       "rows": [
        [
         "0",
         "AG-2011-2040",
         "01-01-2011",
         "06-01-2011",
         "Standard Class",
         "Toby Braunhardt",
         "Consumer",
         "Constantine",
         "Algeria",
         "Africa",
         "Africa",
         "OFF-TEN-10000025",
         "Office Supplies",
         "Storage",
         "Tenex Lockers, Blue",
         "408",
         "2",
         "0.0",
         "106.14",
         "35.46",
         "Medium",
         "2011"
        ],
        [
         "1",
         "IN-2011-47883",
         "01-01-2011",
         "08-01-2011",
         "Standard Class",
         "Joseph Holt",
         "Consumer",
         "New South Wales",
         "Australia",
         "APAC",
         "Oceania",
         "OFF-SU-10000618",
         "Office Supplies",
         "Supplies",
         "Acme Trimmer, High Speed",
         "120",
         "3",
         "0.1",
         "36.036",
         "9.72",
         "Medium",
         "2011"
        ],
        [
         "2",
         "HU-2011-1220",
         "01-01-2011",
         "05-01-2011",
         "Second Class",
         "Annie Thurman",
         "Consumer",
         "Budapest",
         "Hungary",
         "EMEA",
         "EMEA",
         "OFF-TEN-10001585",
         "Office Supplies",
         "Storage",
         "Tenex Box, Single Width",
         "66",
         "4",
         "0.0",
         "29.64",
         "8.17",
         "High",
         "2011"
        ],
        [
         "3",
         "IT-2011-3647632",
         "01-01-2011",
         "05-01-2011",
         "Second Class",
         "Eugene Moren",
         "Home Office",
         "Stockholm",
         "Sweden",
         "EU",
         "North",
         "OFF-PA-10001492",
         "Office Supplies",
         "Paper",
         "Enermax Note Cards, Premium",
         "45",
         "3",
         "0.5",
         "-26.055",
         "4.82",
         "High",
         "2011"
        ],
        [
         "4",
         "IN-2011-47883",
         "01-01-2011",
         "08-01-2011",
         "Standard Class",
         "Joseph Holt",
         "Consumer",
         "New South Wales",
         "Australia",
         "APAC",
         "Oceania",
         "FUR-FU-10003447",
         "Furniture",
         "Furnishings",
         "Eldon Light Bulb, Duo Pack",
         "114",
         "5",
         "0.1",
         "37.77",
         "4.7",
         "Medium",
         "2011"
        ]
       ],
       "shape": {
        "columns": 21,
        "rows": 5
       }
      },
      "text/html": [
       "<div>\n",
       "<style scoped>\n",
       "    .dataframe tbody tr th:only-of-type {\n",
       "        vertical-align: middle;\n",
       "    }\n",
       "\n",
       "    .dataframe tbody tr th {\n",
       "        vertical-align: top;\n",
       "    }\n",
       "\n",
       "    .dataframe thead th {\n",
       "        text-align: right;\n",
       "    }\n",
       "</style>\n",
       "<table border=\"1\" class=\"dataframe\">\n",
       "  <thead>\n",
       "    <tr style=\"text-align: right;\">\n",
       "      <th></th>\n",
       "      <th>order_id</th>\n",
       "      <th>order_date</th>\n",
       "      <th>ship_date</th>\n",
       "      <th>ship_mode</th>\n",
       "      <th>customer_name</th>\n",
       "      <th>segment</th>\n",
       "      <th>state</th>\n",
       "      <th>country</th>\n",
       "      <th>market</th>\n",
       "      <th>region</th>\n",
       "      <th>...</th>\n",
       "      <th>category</th>\n",
       "      <th>sub_category</th>\n",
       "      <th>product_name</th>\n",
       "      <th>sales</th>\n",
       "      <th>quantity</th>\n",
       "      <th>discount</th>\n",
       "      <th>profit</th>\n",
       "      <th>shipping_cost</th>\n",
       "      <th>order_priority</th>\n",
       "      <th>year</th>\n",
       "    </tr>\n",
       "  </thead>\n",
       "  <tbody>\n",
       "    <tr>\n",
       "      <th>0</th>\n",
       "      <td>AG-2011-2040</td>\n",
       "      <td>01-01-2011</td>\n",
       "      <td>06-01-2011</td>\n",
       "      <td>Standard Class</td>\n",
       "      <td>Toby Braunhardt</td>\n",
       "      <td>Consumer</td>\n",
       "      <td>Constantine</td>\n",
       "      <td>Algeria</td>\n",
       "      <td>Africa</td>\n",
       "      <td>Africa</td>\n",
       "      <td>...</td>\n",
       "      <td>Office Supplies</td>\n",
       "      <td>Storage</td>\n",
       "      <td>Tenex Lockers, Blue</td>\n",
       "      <td>408</td>\n",
       "      <td>2</td>\n",
       "      <td>0.0</td>\n",
       "      <td>106.140</td>\n",
       "      <td>35.46</td>\n",
       "      <td>Medium</td>\n",
       "      <td>2011</td>\n",
       "    </tr>\n",
       "    <tr>\n",
       "      <th>1</th>\n",
       "      <td>IN-2011-47883</td>\n",
       "      <td>01-01-2011</td>\n",
       "      <td>08-01-2011</td>\n",
       "      <td>Standard Class</td>\n",
       "      <td>Joseph Holt</td>\n",
       "      <td>Consumer</td>\n",
       "      <td>New South Wales</td>\n",
       "      <td>Australia</td>\n",
       "      <td>APAC</td>\n",
       "      <td>Oceania</td>\n",
       "      <td>...</td>\n",
       "      <td>Office Supplies</td>\n",
       "      <td>Supplies</td>\n",
       "      <td>Acme Trimmer, High Speed</td>\n",
       "      <td>120</td>\n",
       "      <td>3</td>\n",
       "      <td>0.1</td>\n",
       "      <td>36.036</td>\n",
       "      <td>9.72</td>\n",
       "      <td>Medium</td>\n",
       "      <td>2011</td>\n",
       "    </tr>\n",
       "    <tr>\n",
       "      <th>2</th>\n",
       "      <td>HU-2011-1220</td>\n",
       "      <td>01-01-2011</td>\n",
       "      <td>05-01-2011</td>\n",
       "      <td>Second Class</td>\n",
       "      <td>Annie Thurman</td>\n",
       "      <td>Consumer</td>\n",
       "      <td>Budapest</td>\n",
       "      <td>Hungary</td>\n",
       "      <td>EMEA</td>\n",
       "      <td>EMEA</td>\n",
       "      <td>...</td>\n",
       "      <td>Office Supplies</td>\n",
       "      <td>Storage</td>\n",
       "      <td>Tenex Box, Single Width</td>\n",
       "      <td>66</td>\n",
       "      <td>4</td>\n",
       "      <td>0.0</td>\n",
       "      <td>29.640</td>\n",
       "      <td>8.17</td>\n",
       "      <td>High</td>\n",
       "      <td>2011</td>\n",
       "    </tr>\n",
       "    <tr>\n",
       "      <th>3</th>\n",
       "      <td>IT-2011-3647632</td>\n",
       "      <td>01-01-2011</td>\n",
       "      <td>05-01-2011</td>\n",
       "      <td>Second Class</td>\n",
       "      <td>Eugene Moren</td>\n",
       "      <td>Home Office</td>\n",
       "      <td>Stockholm</td>\n",
       "      <td>Sweden</td>\n",
       "      <td>EU</td>\n",
       "      <td>North</td>\n",
       "      <td>...</td>\n",
       "      <td>Office Supplies</td>\n",
       "      <td>Paper</td>\n",
       "      <td>Enermax Note Cards, Premium</td>\n",
       "      <td>45</td>\n",
       "      <td>3</td>\n",
       "      <td>0.5</td>\n",
       "      <td>-26.055</td>\n",
       "      <td>4.82</td>\n",
       "      <td>High</td>\n",
       "      <td>2011</td>\n",
       "    </tr>\n",
       "    <tr>\n",
       "      <th>4</th>\n",
       "      <td>IN-2011-47883</td>\n",
       "      <td>01-01-2011</td>\n",
       "      <td>08-01-2011</td>\n",
       "      <td>Standard Class</td>\n",
       "      <td>Joseph Holt</td>\n",
       "      <td>Consumer</td>\n",
       "      <td>New South Wales</td>\n",
       "      <td>Australia</td>\n",
       "      <td>APAC</td>\n",
       "      <td>Oceania</td>\n",
       "      <td>...</td>\n",
       "      <td>Furniture</td>\n",
       "      <td>Furnishings</td>\n",
       "      <td>Eldon Light Bulb, Duo Pack</td>\n",
       "      <td>114</td>\n",
       "      <td>5</td>\n",
       "      <td>0.1</td>\n",
       "      <td>37.770</td>\n",
       "      <td>4.70</td>\n",
       "      <td>Medium</td>\n",
       "      <td>2011</td>\n",
       "    </tr>\n",
       "  </tbody>\n",
       "</table>\n",
       "<p>5 rows × 21 columns</p>\n",
       "</div>"
      ],
      "text/plain": [
       "          order_id  order_date   ship_date       ship_mode    customer_name  \\\n",
       "0     AG-2011-2040  01-01-2011  06-01-2011  Standard Class  Toby Braunhardt   \n",
       "1    IN-2011-47883  01-01-2011  08-01-2011  Standard Class      Joseph Holt   \n",
       "2     HU-2011-1220  01-01-2011  05-01-2011    Second Class    Annie Thurman   \n",
       "3  IT-2011-3647632  01-01-2011  05-01-2011    Second Class     Eugene Moren   \n",
       "4    IN-2011-47883  01-01-2011  08-01-2011  Standard Class      Joseph Holt   \n",
       "\n",
       "       segment            state    country  market   region  ...  \\\n",
       "0     Consumer      Constantine    Algeria  Africa   Africa  ...   \n",
       "1     Consumer  New South Wales  Australia    APAC  Oceania  ...   \n",
       "2     Consumer         Budapest    Hungary    EMEA     EMEA  ...   \n",
       "3  Home Office        Stockholm     Sweden      EU    North  ...   \n",
       "4     Consumer  New South Wales  Australia    APAC  Oceania  ...   \n",
       "\n",
       "          category sub_category                 product_name sales quantity  \\\n",
       "0  Office Supplies      Storage          Tenex Lockers, Blue   408        2   \n",
       "1  Office Supplies     Supplies     Acme Trimmer, High Speed   120        3   \n",
       "2  Office Supplies      Storage      Tenex Box, Single Width    66        4   \n",
       "3  Office Supplies        Paper  Enermax Note Cards, Premium    45        3   \n",
       "4        Furniture  Furnishings   Eldon Light Bulb, Duo Pack   114        5   \n",
       "\n",
       "   discount   profit  shipping_cost  order_priority  year  \n",
       "0       0.0  106.140          35.46          Medium  2011  \n",
       "1       0.1   36.036           9.72          Medium  2011  \n",
       "2       0.0   29.640           8.17            High  2011  \n",
       "3       0.5  -26.055           4.82            High  2011  \n",
       "4       0.1   37.770           4.70          Medium  2011  \n",
       "\n",
       "[5 rows x 21 columns]"
      ]
     },
     "execution_count": 6,
     "metadata": {},
     "output_type": "execute_result"
    }
   ],
   "source": [
    "df.head(n=5)"
   ]
  },
  {
   "cell_type": "markdown",
   "id": "8325b060",
   "metadata": {},
   "source": [
    "##### Ukuran Pemusatan (Central Tendency)"
   ]
  },
  {
   "cell_type": "code",
   "execution_count": 17,
   "id": "8043fe6a",
   "metadata": {},
   "outputs": [
    {
     "name": "stdout",
     "output_type": "stream",
     "text": [
      "Mean untuk Kolom Sales: 246.49844024176252\n",
      "Median untuk Kolom Sales: 85.0\n",
      "Modus untuk Kolom Sales: 13.0\n",
      "Variance untuk Kolom Sales: 237717.1149225038\n",
      "Range (PTP)untuk Kolom Sales: 22638.0\n"
     ]
    },
    {
     "name": "stderr",
     "output_type": "stream",
     "text": [
      "<>:2: SyntaxWarning: invalid escape sequence '\\$'\n",
      "<>:2: SyntaxWarning: invalid escape sequence '\\$'\n",
      "C:\\Users\\71478\\AppData\\Local\\Temp\\ipykernel_27812\\602484006.py:2: SyntaxWarning: invalid escape sequence '\\$'\n",
      "  df['sales'] = df['sales'].replace('[\\$,]', '', regex=True).astype(float)\n"
     ]
    }
   ],
   "source": [
    "# Pastikan kolom 'sales' numerik\n",
    "df['sales'] = df['sales'].replace('[\\$,]', '', regex=True).astype(float)\n",
    "\n",
    "# Hitung statistik\n",
    "print(\"Mean untuk Kolom Sales:\", np.mean(df['sales']))\n",
    "print(\"Median untuk Kolom Sales:\", np.median(df['sales']))\n",
    "print(\"Modus untuk Kolom Sales:\", st.mode(df['sales']))\n",
    "print(\"Variance untuk Kolom Sales:\", np.var(df['sales']))\n",
    "print(\"Range (PTP)untuk Kolom Sales:\", np.ptp(df['sales']))"
   ]
  },
  {
   "cell_type": "markdown",
   "id": "61e6647d",
   "metadata": {},
   "source": [
    "##### Ukuran Penyebaran (Dispersion)"
   ]
  },
  {
   "cell_type": "code",
   "execution_count": 18,
   "id": "1a7c3759",
   "metadata": {},
   "outputs": [
    {
     "name": "stdout",
     "output_type": "stream",
     "text": [
      "Variance: 237721.74977822183\n",
      "Standard Deviation: 487.5671746315802\n",
      "Range: 22638.0\n",
      "IQR: 220.0\n"
     ]
    }
   ],
   "source": [
    "# Ukuran Penyebaran\n",
    "variance_sales = df['sales'].var()\n",
    "print(\"Variance:\", variance_sales)\n",
    "std_dev_sales = df['sales'].std()\n",
    "print(\"Standard Deviation:\", std_dev_sales)\n",
    "range_sales = df['sales'].max() - df['sales'].min()\n",
    "print(\"Range:\", range_sales)\n",
    "Q1 = df['sales'].quantile(0.25)\n",
    "Q3 = df['sales'].quantile(0.75)\n",
    "iqr_sales = Q3 - Q1\n",
    "print(\"IQR:\", iqr_sales)"
   ]
  },
  {
   "cell_type": "markdown",
   "id": "5f0c3c28",
   "metadata": {},
   "source": [
    "##### Uji Normalitas"
   ]
  },
  {
   "cell_type": "code",
   "execution_count": 19,
   "id": "30e2ec76",
   "metadata": {},
   "outputs": [
    {
     "name": "stdout",
     "output_type": "stream",
     "text": [
      "Shapiro-Wilk Stat: 0.4668483089753003\n",
      "p-value: 1.7341844972662318e-144\n",
      "Data TIDAK berdistribusi normal\n"
     ]
    },
    {
     "name": "stderr",
     "output_type": "stream",
     "text": [
      "C:\\Users\\71478\\AppData\\Local\\Packages\\PythonSoftwareFoundation.Python.3.13_qbz5n2kfra8p0\\LocalCache\\local-packages\\Python313\\site-packages\\scipy\\stats\\_axis_nan_policy.py:586: UserWarning: scipy.stats.shapiro: For N > 5000, computed p-value may not be accurate. Current N is 51290.\n",
      "  res = hypotest_fun_out(*samples, **kwds)\n"
     ]
    }
   ],
   "source": [
    "from scipy.stats import shapiro\n",
    "\n",
    "stat, p = shapiro(df['sales'])\n",
    "print(\"Shapiro-Wilk Stat:\", stat)\n",
    "print(\"p-value:\", p)\n",
    "if p > 0.05:\n",
    "    print(\"Data berdistribusi normal\")\n",
    "else:\n",
    "    print(\"Data TIDAK berdistribusi normal\")"
   ]
  },
  {
   "cell_type": "markdown",
   "id": "fe748300",
   "metadata": {},
   "source": [
    "##### Visualisasi Statistik"
   ]
  },
  {
   "cell_type": "code",
   "execution_count": 20,
   "id": "8fde713e",
   "metadata": {},
   "outputs": [
    {
     "data": {
      "image/png": "[encoded data removed]",
      "text/plain": [
       "<Figure size 640x480 with 1 Axes>"
      ]
     },
     "metadata": {},
     "output_type": "display_data"
    }
   ],
   "source": [
    "plt.hist(df['sales'], bins=30, color='skyblue', edgecolor='black')\n",
    "plt.title('Distribusi Penjualan (Sales)')\n",
    "plt.xlabel('Sales')\n",
    "plt.ylabel('Frekuensi')\n",
    "plt.grid(True, linestyle='--', alpha=0.5)\n",
    "plt.show()"
   ]
  },
  {
   "cell_type": "code",
   "execution_count": 21,
   "id": "ed124da5",
   "metadata": {},
   "outputs": [
    {
     "data": {
      "image/png": "[encoded data removed]",
      "text/plain": [
       "<Figure size 640x480 with 1 Axes>"
      ]
     },
     "metadata": {},
     "output_type": "display_data"
    }
   ],
   "source": [
    "# Boxplot untuk melihat outlier\n",
    "plt.boxplot(df['sales'], vert=False, patch_artist=True, boxprops=dict(facecolor='lightgreen'))\n",
    "plt.title('Boxplot Penjualan')\n",
    "plt.xlabel('Sales')\n",
    "plt.grid(True, linestyle='--', alpha=0.5)\n",
    "plt.show()"
   ]
  },
  {
   "cell_type": "markdown",
   "id": "12a28d33",
   "metadata": {},
   "source": [
    "##### Karena banyaknya Outlier, maka dilakukan beberapa analisis"
   ]
  },
  {
   "cell_type": "markdown",
   "id": "707de4e7",
   "metadata": {},
   "source": [
    "##### Mengidentifikasi dan melihat outlier"
   ]
  },
  {
   "cell_type": "code",
   "execution_count": 22,
   "id": "3a5fba20",
   "metadata": {},
   "outputs": [
    {
     "name": "stdout",
     "output_type": "stream",
     "text": [
      "Jumlah outlier: 5655\n",
      "     sales\n",
      "8    912.0\n",
      "9    667.0\n",
      "12   854.0\n",
      "27  1648.0\n",
      "43  3029.0\n"
     ]
    }
   ],
   "source": [
    "Q1 = df['sales'].quantile(0.25)\n",
    "Q3 = df['sales'].quantile(0.75)\n",
    "IQR = Q3 - Q1\n",
    "\n",
    "# Outlier jika di luar Q1 - 1.5*IQR atau Q3 + 1.5*IQR\n",
    "lower_bound = Q1 - 1.5 * IQR\n",
    "upper_bound = Q3 + 1.5 * IQR\n",
    "\n",
    "outliers = df[(df['sales'] < lower_bound) | (df['sales'] > upper_bound)]\n",
    "print(\"Jumlah outlier:\", len(outliers))\n",
    "print(outliers[['sales']].head())\n",
    "\n",
    "# Jumlah outliernya ada 5.655 dari 51.290 row"
   ]
  },
  {
   "cell_type": "markdown",
   "id": "5dcbe049",
   "metadata": {},
   "source": [
    "##### Memisahkan untuk analisis terpisah"
   ]
  },
  {
   "cell_type": "code",
   "execution_count": 23,
   "id": "adbf4f2f",
   "metadata": {},
   "outputs": [],
   "source": [
    "normal_data = df[(df['sales'] >= lower_bound) & (df['sales'] <= upper_bound)]\n",
    "outlier_data = df[(df['sales'] < lower_bound) | (df['sales'] > upper_bound)]"
   ]
  },
  {
   "cell_type": "markdown",
   "id": "d38841c5",
   "metadata": {},
   "source": [
    "##### Transformasi Data menggunakan Log"
   ]
  },
  {
   "cell_type": "code",
   "execution_count": 24,
   "id": "55eced8c",
   "metadata": {},
   "outputs": [
    {
     "data": {
      "image/png": "[encoded data removed]",
      "text/plain": [
       "<Figure size 640x480 with 1 Axes>"
      ]
     },
     "metadata": {},
     "output_type": "display_data"
    }
   ],
   "source": [
    "# Kenapa?\n",
    "# karena log bisa memperkecil nilai yang besar namun nilai yg kecil tetap terjaga\n",
    "\n",
    "df['log_sales'] = np.log1p(df['sales'])\n",
    "\n",
    "# Visualisasi boxplot log\n",
    "plt.boxplot(df['log_sales'], vert=False, patch_artist=True, boxprops=dict(facecolor='lightblue'))\n",
    "plt.title('Boxplot Penjualan (Log Scale)')\n",
    "plt.xlabel('Log(Sales)')\n",
    "plt.grid(True, linestyle='--', alpha=0.5)\n",
    "plt.show()"
   ]
  },
  {
   "cell_type": "markdown",
   "id": "daff769a",
   "metadata": {},
   "source": [
    "##### Menghapus Outliernya"
   ]
  },
  {
   "cell_type": "code",
   "execution_count": 25,
   "id": "52228494",
   "metadata": {},
   "outputs": [],
   "source": [
    "df_cleaned = df[(df['sales'] >= lower_bound) & (df['sales'] <= upper_bound)]\n"
   ]
  },
  {
   "cell_type": "markdown",
   "id": "3127671d",
   "metadata": {},
   "source": [
    "##### Menggunakan Data Biasa untuk membuat HeatMap"
   ]
  },
  {
   "cell_type": "code",
   "execution_count": 26,
   "id": "57c678c9",
   "metadata": {},
   "outputs": [
    {
     "data": {
      "image/png": "[encoded data removed]",
      "text/plain": [
       "<Figure size 800x600 with 2 Axes>"
      ]
     },
     "metadata": {},
     "output_type": "display_data"
    }
   ],
   "source": [
    "import seaborn as sns\n",
    "\n",
    "# Ambil hanya kolom numerik (termasuk 'sales')\n",
    "numeric_cols = df.select_dtypes(include=['float64', 'int64'])\n",
    "\n",
    "# Hitung korelasi\n",
    "corr_matrix = numeric_cols.corr()\n",
    "\n",
    "# Plot heatmap\n",
    "plt.figure(figsize=(8, 6))\n",
    "sns.heatmap(corr_matrix, annot=True, cmap='YlGnBu', fmt=\".2f\", linewidths=0.5)\n",
    "plt.title('Heatmap Korelasi antar Kolom Numerik')\n",
    "plt.show()\n"
   ]
  }
 ],
 "metadata": {
  "kernelspec": {
   "display_name": "Python 3",
   "language": "python",
   "name": "python3"
  },
  "language_info": {
   "codemirror_mode": {
    "name": "ipython",
    "version": 3
   },
   "file_extension": ".py",
   "mimetype": "text/x-python",
   "name": "python",
   "nbconvert_exporter": "python",
   "pygments_lexer": "ipython3",
   "version": "3.13.5"
  }
 },
 "nbformat": 4,
 "nbformat_minor": 5
}
