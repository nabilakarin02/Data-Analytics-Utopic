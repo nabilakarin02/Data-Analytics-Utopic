{
 "cells": [
  {
   "cell_type": "markdown",
   "id": "1378cfe7",
   "metadata": {},
   "source": [
    "# 🌷Dataset"
   ]
  },
  {
   "cell_type": "code",
   "execution_count": 1,
   "id": "47edaa7f",
   "metadata": {},
   "outputs": [
    {
     "name": "stdout",
     "output_type": "stream",
     "text": [
      "Index(['order_id', 'order_date', 'ship_date', 'ship_mode', 'customer_name',\n",
      "       'segment', 'state', 'country', 'market', 'region', 'product_id',\n",
      "       'category', 'sub_category', 'product_name', 'sales', 'quantity',\n",
      "       'discount', 'profit', 'shipping_cost', 'order_priority', 'year'],\n",
      "      dtype='object')\n"
     ]
    }
   ],
   "source": [
    "import pandas as pd\n",
    "import statsmodels.api as sm\n",
    "from statsmodels.formula.api import ols\n",
    "\n",
    "# Baca file CSV\n",
    "df = pd.read_csv('SuperStore_Orders.csv', encoding='cp1252')\n",
    "# Lihat beberapa kolom awal\n",
    "print(df.columns)"
   ]
  },
  {
   "cell_type": "code",
   "execution_count": 2,
   "id": "f8aa0c14",
   "metadata": {},
   "outputs": [
    {
     "data": {
      "text/html": [
       "<div>\n",
       "<style scoped>\n",
       "    .dataframe tbody tr th:only-of-type {\n",
       "        vertical-align: middle;\n",
       "    }\n",
       "\n",
       "    .dataframe tbody tr th {\n",
       "        vertical-align: top;\n",
       "    }\n",
       "\n",
       "    .dataframe thead th {\n",
       "        text-align: right;\n",
       "    }\n",
       "</style>\n",
       "<table border=\"1\" class=\"dataframe\">\n",
       "  <thead>\n",
       "    <tr style=\"text-align: right;\">\n",
       "      <th></th>\n",
       "      <th>order_id</th>\n",
       "      <th>order_date</th>\n",
       "      <th>ship_date</th>\n",
       "      <th>ship_mode</th>\n",
       "      <th>customer_name</th>\n",
       "      <th>segment</th>\n",
       "      <th>state</th>\n",
       "      <th>country</th>\n",
       "      <th>market</th>\n",
       "      <th>region</th>\n",
       "      <th>...</th>\n",
       "      <th>category</th>\n",
       "      <th>sub_category</th>\n",
       "      <th>product_name</th>\n",
       "      <th>sales</th>\n",
       "      <th>quantity</th>\n",
       "      <th>discount</th>\n",
       "      <th>profit</th>\n",
       "      <th>shipping_cost</th>\n",
       "      <th>order_priority</th>\n",
       "      <th>year</th>\n",
       "    </tr>\n",
       "  </thead>\n",
       "  <tbody>\n",
       "    <tr>\n",
       "      <th>0</th>\n",
       "      <td>AG-2011-2040</td>\n",
       "      <td>01-01-2011</td>\n",
       "      <td>06-01-2011</td>\n",
       "      <td>Standard Class</td>\n",
       "      <td>Toby Braunhardt</td>\n",
       "      <td>Consumer</td>\n",
       "      <td>Constantine</td>\n",
       "      <td>Algeria</td>\n",
       "      <td>Africa</td>\n",
       "      <td>Africa</td>\n",
       "      <td>...</td>\n",
       "      <td>Office Supplies</td>\n",
       "      <td>Storage</td>\n",
       "      <td>Tenex Lockers, Blue</td>\n",
       "      <td>408</td>\n",
       "      <td>2</td>\n",
       "      <td>0.0</td>\n",
       "      <td>106.140</td>\n",
       "      <td>35.46</td>\n",
       "      <td>Medium</td>\n",
       "      <td>2011</td>\n",
       "    </tr>\n",
       "    <tr>\n",
       "      <th>1</th>\n",
       "      <td>IN-2011-47883</td>\n",
       "      <td>01-01-2011</td>\n",
       "      <td>08-01-2011</td>\n",
       "      <td>Standard Class</td>\n",
       "      <td>Joseph Holt</td>\n",
       "      <td>Consumer</td>\n",
       "      <td>New South Wales</td>\n",
       "      <td>Australia</td>\n",
       "      <td>APAC</td>\n",
       "      <td>Oceania</td>\n",
       "      <td>...</td>\n",
       "      <td>Office Supplies</td>\n",
       "      <td>Supplies</td>\n",
       "      <td>Acme Trimmer, High Speed</td>\n",
       "      <td>120</td>\n",
       "      <td>3</td>\n",
       "      <td>0.1</td>\n",
       "      <td>36.036</td>\n",
       "      <td>9.72</td>\n",
       "      <td>Medium</td>\n",
       "      <td>2011</td>\n",
       "    </tr>\n",
       "    <tr>\n",
       "      <th>2</th>\n",
       "      <td>HU-2011-1220</td>\n",
       "      <td>01-01-2011</td>\n",
       "      <td>05-01-2011</td>\n",
       "      <td>Second Class</td>\n",
       "      <td>Annie Thurman</td>\n",
       "      <td>Consumer</td>\n",
       "      <td>Budapest</td>\n",
       "      <td>Hungary</td>\n",
       "      <td>EMEA</td>\n",
       "      <td>EMEA</td>\n",
       "      <td>...</td>\n",
       "      <td>Office Supplies</td>\n",
       "      <td>Storage</td>\n",
       "      <td>Tenex Box, Single Width</td>\n",
       "      <td>66</td>\n",
       "      <td>4</td>\n",
       "      <td>0.0</td>\n",
       "      <td>29.640</td>\n",
       "      <td>8.17</td>\n",
       "      <td>High</td>\n",
       "      <td>2011</td>\n",
       "    </tr>\n",
       "    <tr>\n",
       "      <th>3</th>\n",
       "      <td>IT-2011-3647632</td>\n",
       "      <td>01-01-2011</td>\n",
       "      <td>05-01-2011</td>\n",
       "      <td>Second Class</td>\n",
       "      <td>Eugene Moren</td>\n",
       "      <td>Home Office</td>\n",
       "      <td>Stockholm</td>\n",
       "      <td>Sweden</td>\n",
       "      <td>EU</td>\n",
       "      <td>North</td>\n",
       "      <td>...</td>\n",
       "      <td>Office Supplies</td>\n",
       "      <td>Paper</td>\n",
       "      <td>Enermax Note Cards, Premium</td>\n",
       "      <td>45</td>\n",
       "      <td>3</td>\n",
       "      <td>0.5</td>\n",
       "      <td>-26.055</td>\n",
       "      <td>4.82</td>\n",
       "      <td>High</td>\n",
       "      <td>2011</td>\n",
       "    </tr>\n",
       "    <tr>\n",
       "      <th>4</th>\n",
       "      <td>IN-2011-47883</td>\n",
       "      <td>01-01-2011</td>\n",
       "      <td>08-01-2011</td>\n",
       "      <td>Standard Class</td>\n",
       "      <td>Joseph Holt</td>\n",
       "      <td>Consumer</td>\n",
       "      <td>New South Wales</td>\n",
       "      <td>Australia</td>\n",
       "      <td>APAC</td>\n",
       "      <td>Oceania</td>\n",
       "      <td>...</td>\n",
       "      <td>Furniture</td>\n",
       "      <td>Furnishings</td>\n",
       "      <td>Eldon Light Bulb, Duo Pack</td>\n",
       "      <td>114</td>\n",
       "      <td>5</td>\n",
       "      <td>0.1</td>\n",
       "      <td>37.770</td>\n",
       "      <td>4.70</td>\n",
       "      <td>Medium</td>\n",
       "      <td>2011</td>\n",
       "    </tr>\n",
       "  </tbody>\n",
       "</table>\n",
       "<p>5 rows × 21 columns</p>\n",
       "</div>"
      ],
      "text/plain": [
       "          order_id  order_date   ship_date       ship_mode    customer_name  \\\n",
       "0     AG-2011-2040  01-01-2011  06-01-2011  Standard Class  Toby Braunhardt   \n",
       "1    IN-2011-47883  01-01-2011  08-01-2011  Standard Class      Joseph Holt   \n",
       "2     HU-2011-1220  01-01-2011  05-01-2011    Second Class    Annie Thurman   \n",
       "3  IT-2011-3647632  01-01-2011  05-01-2011    Second Class     Eugene Moren   \n",
       "4    IN-2011-47883  01-01-2011  08-01-2011  Standard Class      Joseph Holt   \n",
       "\n",
       "       segment            state    country  market   region  ...  \\\n",
       "0     Consumer      Constantine    Algeria  Africa   Africa  ...   \n",
       "1     Consumer  New South Wales  Australia    APAC  Oceania  ...   \n",
       "2     Consumer         Budapest    Hungary    EMEA     EMEA  ...   \n",
       "3  Home Office        Stockholm     Sweden      EU    North  ...   \n",
       "4     Consumer  New South Wales  Australia    APAC  Oceania  ...   \n",
       "\n",
       "          category sub_category                 product_name sales quantity  \\\n",
       "0  Office Supplies      Storage          Tenex Lockers, Blue   408        2   \n",
       "1  Office Supplies     Supplies     Acme Trimmer, High Speed   120        3   \n",
       "2  Office Supplies      Storage      Tenex Box, Single Width    66        4   \n",
       "3  Office Supplies        Paper  Enermax Note Cards, Premium    45        3   \n",
       "4        Furniture  Furnishings   Eldon Light Bulb, Duo Pack   114        5   \n",
       "\n",
       "   discount   profit  shipping_cost  order_priority  year  \n",
       "0       0.0  106.140          35.46          Medium  2011  \n",
       "1       0.1   36.036           9.72          Medium  2011  \n",
       "2       0.0   29.640           8.17            High  2011  \n",
       "3       0.5  -26.055           4.82            High  2011  \n",
       "4       0.1   37.770           4.70          Medium  2011  \n",
       "\n",
       "[5 rows x 21 columns]"
      ]
     },
     "execution_count": 2,
     "metadata": {},
     "output_type": "execute_result"
    }
   ],
   "source": [
    "df.head(5)"
   ]
  },
  {
   "cell_type": "code",
   "execution_count": 3,
   "id": "4a50baf1",
   "metadata": {},
   "outputs": [],
   "source": [
    "df['sales'] = df['sales'].str.replace(',', '', regex=False).astype(float)"
   ]
  },
  {
   "cell_type": "code",
   "execution_count": 4,
   "id": "76d63eea",
   "metadata": {},
   "outputs": [
    {
     "data": {
      "text/plain": [
       "order_id          0\n",
       "order_date        0\n",
       "ship_date         0\n",
       "ship_mode         0\n",
       "customer_name     0\n",
       "segment           0\n",
       "state             0\n",
       "country           0\n",
       "market            0\n",
       "region            0\n",
       "product_id        0\n",
       "category          0\n",
       "sub_category      0\n",
       "product_name      0\n",
       "sales             0\n",
       "quantity          0\n",
       "discount          0\n",
       "profit            0\n",
       "shipping_cost     0\n",
       "order_priority    0\n",
       "year              0\n",
       "dtype: int64"
      ]
     },
     "execution_count": 4,
     "metadata": {},
     "output_type": "execute_result"
    }
   ],
   "source": [
    "df.isnull().sum()"
   ]
  },
  {
   "cell_type": "markdown",
   "id": "2968529d",
   "metadata": {},
   "source": [
    "# 🌷One-Way ANOVA"
   ]
  },
  {
   "cell_type": "code",
   "execution_count": 5,
   "id": "ec27b6cf",
   "metadata": {},
   "outputs": [
    {
     "name": "stdout",
     "output_type": "stream",
     "text": [
      "One-Way ANOVA:\n",
      "                         sum_sq           df            F       PR(>F)\n",
      "C(order_priority) 4.710560e+05 3.000000e+00 6.605014e-01 5.762584e-01\n",
      "Residual          1.219204e+10 5.128600e+04          NaN          NaN\n"
     ]
    }
   ],
   "source": [
    "# One-Way ANOVA\n",
    "model_1way = ols('sales ~ C(order_priority)', data=df).fit()\n",
    "anova_1way = sm.stats.anova_lm(model_1way, typ=2)\n",
    "# Tampilkan dengan format notasi ilmiah (sci)\n",
    "pd.options.display.float_format = '{:.6e}'.format\n",
    "print(\"One-Way ANOVA:\\n\", anova_1way)"
   ]
  },
  {
   "cell_type": "markdown",
   "id": "f52eab7d",
   "metadata": {},
   "source": [
    "### P-value > a, mmenerima H0. Terdapat perbedaan yg tidak signifikan terhapa kolom order_priority terhadap kolom sales"
   ]
  },
  {
   "cell_type": "code",
   "execution_count": 6,
   "id": "2f070eaf",
   "metadata": {},
   "outputs": [
    {
     "name": "stdout",
     "output_type": "stream",
     "text": [
      "One-Way ANOVA:\n",
      "                       sum_sq           df            F       PR(>F)\n",
      "C(sub_category) 2.583494e+09 1.600000e+01 8.615832e+02 0.000000e+00\n",
      "Residual        9.609017e+09 5.127300e+04          NaN          NaN\n"
     ]
    }
   ],
   "source": [
    "# One-Way ANOVA\n",
    "model_1way = ols('sales ~ C(sub_category)', data=df).fit()\n",
    "anova_1way = sm.stats.anova_lm(model_1way, typ=2)\n",
    "# Tampilkan dengan format notasi ilmiah (sci)\n",
    "pd.options.display.float_format = '{:.6e}'.format\n",
    "print(\"One-Way ANOVA:\\n\", anova_1way)"
   ]
  },
  {
   "cell_type": "markdown",
   "id": "3e0a2b9e",
   "metadata": {},
   "source": [
    "### P-value < a, tolak H0. Terdapat perbedaan yg signifikan terhapa kolom sub_category terhadap kolom sales"
   ]
  },
  {
   "cell_type": "markdown",
   "id": "ca952e0a",
   "metadata": {},
   "source": [
    "## 🌷Two-Way ANOVA"
   ]
  },
  {
   "cell_type": "code",
   "execution_count": null,
   "id": "1e649ca0",
   "metadata": {},
   "outputs": [
    {
     "name": "stdout",
     "output_type": "stream",
     "text": [
      "Two-Way ANOVA:\n",
      "                                 sum_sq           df            F        PR(>F)\n",
      "C(sub_category)           2.540239e+09 1.600000e+01 8.970765e+02  0.000000e+00\n",
      "C(region)                 1.130401e+08 1.200000e+01 5.322627e+01 3.865614e-128\n",
      "C(sub_category):C(region) 4.577648e+08 1.920000e+02 1.347150e+01  0.000000e+00\n",
      "Residual                  9.038212e+09 5.106900e+04          NaN           NaN\n"
     ]
    }
   ],
   "source": [
    "# Two-Way ANOVA tanpa interaksi\n",
    "model_2way = ols('sales ~ C(sub_category) * C(region)', data=df).fit()\n",
    "anova_2way = sm.stats.anova_lm(model_2way, typ=2)\n",
    "print(\"Two-Way ANOVA:\\n\",anova_2way)"
   ]
  },
  {
   "cell_type": "markdown",
   "id": "64250c0d",
   "metadata": {},
   "source": [
    "### p-value < a, tolak H0. Terdapat perbedaan yang signifikan antara sub_cateogery di region yang berbeda terhadap kolom sales"
   ]
  },
  {
   "cell_type": "markdown",
   "id": "2f808d6e",
   "metadata": {},
   "source": [
    "## 🌷N-Way ANOVA"
   ]
  },
  {
   "cell_type": "code",
   "execution_count": 8,
   "id": "9d9e8ffa",
   "metadata": {},
   "outputs": [
    {
     "name": "stderr",
     "output_type": "stream",
     "text": [
      "C:\\Users\\71478\\AppData\\Local\\Packages\\PythonSoftwareFoundation.Python.3.13_qbz5n2kfra8p0\\LocalCache\\local-packages\\Python313\\site-packages\\statsmodels\\base\\model.py:1894: ValueWarning: covariance of constraints does not have full rank. The number of constraints is 192, but rank is 170\n",
      "  warnings.warn('covariance of constraints does not have full '\n",
      "C:\\Users\\71478\\AppData\\Local\\Packages\\PythonSoftwareFoundation.Python.3.13_qbz5n2kfra8p0\\LocalCache\\local-packages\\Python313\\site-packages\\statsmodels\\base\\model.py:1894: ValueWarning: covariance of constraints does not have full rank. The number of constraints is 48, but rank is 30\n",
      "  warnings.warn('covariance of constraints does not have full '\n",
      "C:\\Users\\71478\\AppData\\Local\\Packages\\PythonSoftwareFoundation.Python.3.13_qbz5n2kfra8p0\\LocalCache\\local-packages\\Python313\\site-packages\\statsmodels\\base\\model.py:1894: ValueWarning: covariance of constraints does not have full rank. The number of constraints is 36, but rank is 18\n",
      "  warnings.warn('covariance of constraints does not have full '\n"
     ]
    },
    {
     "name": "stdout",
     "output_type": "stream",
     "text": [
      "N-Way ANOVA (3 faktor):\n",
      "                                                   sum_sq           df  \\\n",
      "C(sub_category)                             1.188796e+09 1.600000e+01   \n",
      "C(region)                                   5.607816e+07 1.200000e+01   \n",
      "C(order_priority)                           2.833498e+05 3.000000e+00   \n",
      "C(sub_category):C(region)                   4.529534e+08 1.920000e+02   \n",
      "C(sub_category):C(order_priority)           5.445273e+06 4.800000e+01   \n",
      "C(region):C(order_priority)                 7.697670e+06 3.600000e+01   \n",
      "C(sub_category):C(region):C(order_priority) 1.588394e+08 5.760000e+02   \n",
      "Residual                                    8.883007e+09 5.042900e+04   \n",
      "\n",
      "                                                       F       PR(>F)  \n",
      "C(sub_category)                             4.218011e+02 0.000000e+00  \n",
      "C(region)                                   2.652973e+01 1.041364e-60  \n",
      "C(order_priority)                           5.361941e-01 6.574476e-01  \n",
      "C(sub_category):C(region)                   1.339284e+01 0.000000e+00  \n",
      "C(sub_category):C(order_priority)           6.440192e-01 9.330023e-01  \n",
      "C(region):C(order_priority)                 1.213884e+00 2.387743e-01  \n",
      "C(sub_category):C(region):C(order_priority) 1.565511e+00 4.182748e-16  \n",
      "Residual                                             NaN          NaN  \n"
     ]
    },
    {
     "name": "stderr",
     "output_type": "stream",
     "text": [
      "C:\\Users\\71478\\AppData\\Local\\Packages\\PythonSoftwareFoundation.Python.3.13_qbz5n2kfra8p0\\LocalCache\\local-packages\\Python313\\site-packages\\statsmodels\\base\\model.py:1894: ValueWarning: covariance of constraints does not have full rank. The number of constraints is 576, but rank is 558\n",
      "  warnings.warn('covariance of constraints does not have full '\n"
     ]
    }
   ],
   "source": [
    "# Model: N-Way ANOVA dengan 3 faktor + interaksi\n",
    "model_nway = ols('sales ~ C(sub_category) * C(region) * C(order_priority)', data=df).fit()\n",
    "anova_nway = sm.stats.anova_lm(model_nway, typ=2)\n",
    "\n",
    "# Tampilkan hasil dengan format scientific\n",
    "pd.options.display.float_format = '{:.6e}'.format\n",
    "print(\"N-Way ANOVA (3 faktor):\\n\", anova_nway)"
   ]
  },
  {
   "cell_type": "markdown",
   "id": "bc8c9c42",
   "metadata": {},
   "source": [
    "## P-value < a, tolak H0. Terdapat perbedaan yg signifikan antara kolom sub_category dengan kolom sales\n",
    "## P-value < a, tolak H0. Terdapat perbedaan yg signifikan antara kolom sub_category dengan kolom sales tergantung region-nya\n",
    "## P-value < a, tolak H0. Terdapat perbedaan yg signifikan antara kolom sub_category dengan kolom sales tergantung region-nya dan order_prioritynya\n",
    "## P-value > a, menerima H0. Terdapat perbedaan yg tidak signifikan antara kolom-kolom dengan sales\n"
   ]
  }
 ],
 "metadata": {
  "kernelspec": {
   "display_name": "Python 3",
   "language": "python",
   "name": "python3"
  },
  "language_info": {
   "codemirror_mode": {
    "name": "ipython",
    "version": 3
   },
   "file_extension": ".py",
   "mimetype": "text/x-python",
   "name": "python",
   "nbconvert_exporter": "python",
   "pygments_lexer": "ipython3",
   "version": "3.13.5"
  }
 },
 "nbformat": 4,
 "nbformat_minor": 5
}
