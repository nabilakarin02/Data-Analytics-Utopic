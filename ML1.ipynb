{
 "cells": [
  {
   "cell_type": "markdown",
   "id": "b3744581",
   "metadata": {},
   "source": [
    "##### 🌺KNN"
   ]
  },
  {
   "cell_type": "code",
   "execution_count": 81,
   "id": "7a6f0bf6",
   "metadata": {},
   "outputs": [],
   "source": [
    "# Import Library\n",
    "import pandas as pd\n",
    "import math\n",
    "from sklearn.metrics import confusion_matrix, ConfusionMatrixDisplay\n",
    "import matplotlib.pyplot as plt"
   ]
  },
  {
   "cell_type": "code",
   "execution_count": 82,
   "id": "de704160",
   "metadata": {},
   "outputs": [],
   "source": [
    "# Load dataset \n",
    "df = pd.read_csv('pima_indians_diabetes_with_header.csv')\n",
    "df = df.dropna()"
   ]
  },
  {
   "cell_type": "code",
   "execution_count": 83,
   "id": "0e98b865",
   "metadata": {},
   "outputs": [],
   "source": [
    "# Pisahkan fitur dan target\n",
    "X = df.drop(columns='Outcome').values\n",
    "y = df['Outcome'].values"
   ]
  },
  {
   "cell_type": "code",
   "execution_count": 84,
   "id": "f76b0b08",
   "metadata": {},
   "outputs": [],
   "source": [
    "# Split 80% train, 20% test\n",
    "train_size = int(0.8 * len(X))\n",
    "X_train, X_test = X[:train_size], X[train_size:]\n",
    "y_train, y_test = y[:train_size], y[train_size:]"
   ]
  },
  {
   "cell_type": "code",
   "execution_count": null,
   "id": "14b1990d",
   "metadata": {},
   "outputs": [],
   "source": [
    "# Menghitung Distance menggunakan Euclidean\n",
    "def euclidean_distance(p1, p2):\n",
    "    return math.sqrt(sum((a - b) ** 2 for a, b in zip(p1, p2)))"
   ]
  },
  {
   "cell_type": "code",
   "execution_count": 86,
   "id": "a6bd8366",
   "metadata": {},
   "outputs": [],
   "source": [
    "# Fungsi klasifikasi KNN Manual\n",
    "def classify_point(X_train, y_train, p, k):\n",
    "    distances = []\n",
    "    for xi, yi in zip(X_train, y_train):\n",
    "        dist = euclidean_distance(p, xi)\n",
    "        distances.append((dist, yi))\n",
    "    distances = sorted(distances)[:k]\n",
    "    freq_0 = sum(1 for d in distances if d[1] == 0)\n",
    "    freq_1 = sum(1 for d in distances if d[1] == 1)\n",
    "    return 0 if freq_0 > freq_1 else 1"
   ]
  },
  {
   "cell_type": "code",
   "execution_count": null,
   "id": "51d10fab",
   "metadata": {},
   "outputs": [
    {
     "name": "stdout",
     "output_type": "stream",
     "text": [
      "🔍 Evaluasi Akurasi untuk Berbagai Nilai k:\n",
      "k = 1 ➜ Akurasi = 61.69%\n",
      "k = 3 ➜ Akurasi = 68.18%\n",
      "k = 5 ➜ Akurasi = 70.13%\n",
      "k = 7 ➜ Akurasi = 72.08%\n",
      "k = 9 ➜ Akurasi = 70.78%\n",
      "k = 11 ➜ Akurasi = 71.43%\n",
      "\n",
      "✅ Model KNN terbaik: k = 7 dengan akurasi = 72.08%\n",
      "📉 MSE (Mean Squared Error) untuk model KNN terbaik (k=7) adalah: 0.2792\n"
     ]
    },
    {
     "data": {
      "image/png": "[encoded data removed]",
      "text/plain": [
       "<Figure size 640x480 with 2 Axes>"
      ]
     },
     "metadata": {},
     "output_type": "display_data"
    }
   ],
   "source": [
    "# Mencari nilai k terbaik\n",
    "# k : jumlah tetangga terdekat yg dipakai untuk melihat klasifikasi\n",
    "best_k = None\n",
    "best_accuracy = 0\n",
    "best_y_pred = []\n",
    "\n",
    "print(\"🔍 Evaluasi Akurasi untuk Berbagai Nilai k:\")\n",
    "for k in [1, 3, 5, 7, 9, 11]:\n",
    "    y_pred = []\n",
    "    for p in X_test:\n",
    "        pred = classify_point(X_train, y_train, p, k)\n",
    "        y_pred.append(pred)\n",
    "\n",
    "    correct = sum(1 for true, pred in zip(y_test, y_pred) if true == pred)\n",
    "    accuracy = correct / len(y_test) * 100\n",
    "    print(f\"k = {k} ➜ Akurasi = {accuracy:.2f}%\")\n",
    "\n",
    "    if accuracy > best_accuracy:\n",
    "        best_accuracy = accuracy\n",
    "        best_k = k\n",
    "        best_y_pred = y_pred.copy()\n",
    "print(f\"\\n✅ Model KNN terbaik: k = {best_k} dengan akurasi = {best_accuracy:.2f}%\")\n",
    "\n",
    "# Hitung MSE\n",
    "from sklearn.metrics import mean_squared_error\n",
    "mse = mean_squared_error(y_test, best_y_pred)\n",
    "print(f\"📉 MSE (Mean Squared Error) untuk model KNN terbaik (k={best_k}) adalah: {mse:.4f}\")\n",
    "\n",
    "# Membuat Confusion Matrix untuk k terbaik\n",
    "cm = confusion_matrix(y_test, best_y_pred)\n",
    "disp = ConfusionMatrixDisplay(confusion_matrix=cm, display_labels=[0, 1])\n",
    "disp.plot(cmap=plt.cm.Blues)\n",
    "plt.title(f\"Confusion Matrix - KNN Manual (k={best_k})\")\n",
    "plt.show()"
   ]
  },
  {
   "cell_type": "markdown",
   "id": "9fbf6563",
   "metadata": {},
   "source": [
    "##### 🌺Linear Regression"
   ]
  },
  {
   "cell_type": "code",
   "execution_count": 88,
   "id": "d9377096",
   "metadata": {},
   "outputs": [],
   "source": [
    "# Input: Glucose, Target: Outcome\n",
    "n = len(df)\n",
    "train_size = int(0.8 * n)\n",
    "test_size = n - train_size\n",
    "\n",
    "train_input = np.array(df['Glucose'][:train_size]).reshape(train_size, 1)\n",
    "train_output = np.array(df['Outcome'][:train_size]).reshape(train_size, 1)\n",
    "\n",
    "test_input = np.array(df['Glucose'][train_size:]).reshape(test_size, 1)\n",
    "test_output = np.array(df['Outcome'][train_size:]).reshape(test_size, 1)"
   ]
  },
  {
   "cell_type": "code",
   "execution_count": null,
   "id": "49005ff2",
   "metadata": {},
   "outputs": [],
   "source": [
    "# Membuat model regresi linear \n",
    "class LinearRegression: \n",
    "    def __init__(self): \n",
    "        self.parameters = {} \n",
    "\n",
    "    def forward_propagation(self, train_input): \n",
    "        m = self.parameters['m'] \n",
    "        c = self.parameters['c'] \n",
    "        predictions = np.multiply(m, train_input) + c \n",
    "        return predictions \n",
    "\n",
    "# Menghitung MSE menggunakan fungsi cost_function \n",
    "    def cost_function(self, predictions, train_output): \n",
    "        cost = np.mean((train_output - predictions) ** 2) \n",
    "        return cost \n",
    "\n",
    "# Menghitung turunan (gradien) dari fungsi loss\n",
    "    def backward_propagation(self, train_input, train_output, predictions): \n",
    "        df = (predictions - train_output) \n",
    "        dm = 2 * np.mean(np.multiply(train_input, df)) \n",
    "        dc = 2 * np.mean(df) \n",
    "        return {'dm': dm, 'dc': dc} \n",
    "\n",
    "    def update_parameters(self, derivatives, learning_rate): \n",
    "        self.parameters['m'] -= learning_rate * derivatives['dm'] \n",
    "        self.parameters['c'] -= learning_rate * derivatives['dc'] \n",
    "\n",
    "    def train(self, train_input, train_output, learning_rate, iters): \n",
    "        self.parameters['m'] = np.random.uniform(-1, 1)\n",
    "        self.parameters['c'] = np.random.uniform(0, 1);\n",
    "        self.loss = [] \n",
    "\n",
    "# Training Loop + Visualisasi \n",
    "        fig, ax = plt.subplots() \n",
    "        x_vals = np.linspace(min(train_input)[0], max(train_input)[0], 100) \n",
    "        line, = ax.plot(x_vals, self.parameters['m'] * x_vals + self.parameters['c'],\n",
    "                        color='red', label='Regression Line') \n",
    "        ax.scatter(train_input, train_output, color='green', label='Training Data') \n",
    "        ax.set_ylim(-0.2, 1.2)\n",
    "\n",
    "        def update(frame): \n",
    "            predictions = self.forward_propagation(train_input) \n",
    "            cost = self.cost_function(predictions, train_output) \n",
    "            derivatives = self.backward_propagation(train_input, train_output, predictions) \n",
    "            self.update_parameters(derivatives, learning_rate) \n",
    "            line.set_ydata(self.parameters['m'] * x_vals + self.parameters['c']) \n",
    "            self.loss.append(cost) \n",
    "            print(f\"Iteration = {frame + 1}, Loss = {cost:.4f}\") \n",
    "            return line, \n",
    "\n",
    "        ani = FuncAnimation(fig, update, frames=iters, interval=200, blit=True) \n",
    "        ani.save('linear_regression_outcome.gif', writer='ffmpeg') \n",
    "\n",
    "        plt.xlabel('Glucose') \n",
    "        plt.ylabel('Outcome') \n",
    "        plt.title('Linear Regression Predicting Outcome') \n",
    "        plt.legend() \n",
    "        plt.show() \n",
    "\n",
    "# Mengembalikan parameter akhir (nilai m dan c) serta daftar loss dari seluruh iterasi\n",
    "        return self.parameters, self.loss"
   ]
  },
  {
   "cell_type": "code",
   "execution_count": 90,
   "id": "54fe6a64",
   "metadata": {},
   "outputs": [
    {
     "name": "stderr",
     "output_type": "stream",
     "text": [
      "MovieWriter ffmpeg unavailable; using Pillow instead.\n"
     ]
    },
    {
     "name": "stdout",
     "output_type": "stream",
     "text": [
      "Iteration = 1, Loss = 2085.6868\n",
      "Iteration = 1, Loss = 9331.3149\n",
      "Iteration = 1, Loss = 41751.3751\n",
      "Iteration = 1, Loss = 186812.6837\n",
      "Iteration = 2, Loss = 835879.4381\n",
      "Iteration = 3, Loss = 3740083.5685\n",
      "Iteration = 4, Loss = 16734743.3245\n",
      "Iteration = 5, Loss = 74878446.2417\n",
      "Iteration = 6, Loss = 335038408.2896\n",
      "Iteration = 7, Loss = 1499106096.7376\n",
      "Iteration = 8, Loss = 6707646152.7189\n",
      "Iteration = 9, Loss = 30012897027.7182\n",
      "Iteration = 10, Loss = 134290624089.2467\n",
      "Iteration = 11, Loss = 600874074292.8906\n",
      "Iteration = 12, Loss = 2688569329440.5522\n",
      "Iteration = 13, Loss = 12029816809315.3184\n",
      "Iteration = 14, Loss = 53826580137253.6562\n",
      "Iteration = 15, Loss = 240843295886991.2188\n",
      "Iteration = 16, Loss = 1077636606780504.7500\n",
      "Iteration = 17, Loss = 4821810181580923.0000\n",
      "Iteration = 18, Loss = 21574854900909128.0000\n",
      "Iteration = 19, Loss = 96535190409064992.0000\n",
      "Iteration = 20, Loss = 431940007481660928.0000\n"
     ]
    },
    {
     "data": {
      "image/png": "[encoded data removed]",
      "text/plain": [
       "<Figure size 640x480 with 1 Axes>"
      ]
     },
     "metadata": {},
     "output_type": "display_data"
    }
   ],
   "source": [
    "# Train model dan membuat plot\n",
    "linear_reg = LinearRegression()\n",
    "parameters, loss = linear_reg.train(train_input, train_output, learning_rate=0.0001, iters=20)"
   ]
  },
  {
   "cell_type": "markdown",
   "id": "dd8156b1",
   "metadata": {},
   "source": [
    "📌Linear regression dirancang untuk memprediksi nilai kontinu, bukan kelas seperti \"diabetes\" (1) atau \"tidak diabetes\" (0).\n",
    "\n",
    "📌 Linear Regression tidak ada decision boundary (misal, threshold), jadi model tidak tahun kapan harus memutuskan antara kelas 0 dan 1.\n",
    "\n",
    "📌 Dalam Linear Regression, model mengasumsikan error mengikuti distribusi normal. Namun dataset Pima Diabetes memiliki outcome yang mengikuti distribusi Bernoulli yang hanya ada 2 kemungkinan saja (Diabetes atau Tidak Diabetes)\n"
   ]
  },
  {
   "cell_type": "markdown",
   "id": "b8da8579",
   "metadata": {},
   "source": [
    "##### 🌺Logistic Regression"
   ]
  },
  {
   "cell_type": "code",
   "execution_count": 91,
   "id": "ec4163e9",
   "metadata": {},
   "outputs": [],
   "source": [
    "import pandas as pd\n",
    "import numpy as np\n",
    "import matplotlib.pyplot as plt\n",
    "from sklearn.metrics import classification_report\n",
    "from sklearn.preprocessing import StandardScaler"
   ]
  },
  {
   "cell_type": "code",
   "execution_count": 92,
   "id": "c259ae92",
   "metadata": {},
   "outputs": [],
   "source": [
    "# Load dataset\n",
    "df = pd.read_csv(\"pima_indians_diabetes_with_header.csv\")\n",
    "df = df.dropna()\n",
    "\n",
    "X = df.drop(columns=\"Outcome\").values\n",
    "y = df[\"Outcome\"].values"
   ]
  },
  {
   "cell_type": "code",
   "execution_count": null,
   "id": "2b067511",
   "metadata": {},
   "outputs": [],
   "source": [
    "# Normalisasi menggunakan Scalling\n",
    "scaler = StandardScaler()\n",
    "X = scaler.fit_transform(X)"
   ]
  },
  {
   "cell_type": "code",
   "execution_count": 94,
   "id": "4f86b1fd",
   "metadata": {},
   "outputs": [],
   "source": [
    "# Split data into training and testing sets \n",
    "n_samples = X.shape[0]\n",
    "split_index = int(0.8 * n_samples)\n",
    "\n",
    "X_train, X_test = X[:split_index], X[split_index:]\n",
    "y_train, y_test = y[:split_index], y[split_index:]"
   ]
  },
  {
   "cell_type": "code",
   "execution_count": 95,
   "id": "895d822d",
   "metadata": {},
   "outputs": [
    {
     "name": "stdout",
     "output_type": "stream",
     "text": [
      "[0. 0. 0. 0. 0. 0. 0. 0.]\n"
     ]
    }
   ],
   "source": [
    "# Inisialisasi parameter\n",
    "learning_rate = 0.01\n",
    "n_iter = 600\n",
    "b = 0\n",
    "w = np.zeros(X.shape[1])  #an array of weights for each X variables\n",
    "print(w)"
   ]
  },
  {
   "cell_type": "code",
   "execution_count": 96,
   "id": "ef501bd1",
   "metadata": {},
   "outputs": [],
   "source": [
    "# Implement Logistic Regression functions with lambda\n",
    "predict = lambda x, w, b: np.dot(w, x.T) + b\n",
    "def sigmoid(x):\n",
    "    return np.where(x >= 0, 1 / (1 + np.exp(-x)), np.exp(x) / (1 + np.exp(x)))\n",
    "loss_fn = lambda y, sig: -(y * np.log(sig) + (1 - y) * np.log(1 - sig)).mean()\n",
    "dldw = lambda x, y, sig: (np.reshape(sig - y, (len(y), 1)) * x).mean(axis=0)\n",
    "dldb = lambda y, sig: (sig - y).mean()\n",
    "update = lambda a, g, lr: a - (g * lr)"
   ]
  },
  {
   "cell_type": "code",
   "execution_count": 97,
   "id": "5acaf5fc",
   "metadata": {},
   "outputs": [],
   "source": [
    "# Training Loop\n",
    "losses = []\n",
    "for i in range(n_iter):\n",
    "    yhat = predict(X_train, w, b)\n",
    "    sig = sigmoid(yhat)\n",
    "    logloss = loss_fn(y_train, sig)\n",
    "    losses.append(logloss)\n",
    "\n",
    "    grad_w = dldw(X_train, y_train, sig)\n",
    "    grad_b = dldb(y_train, sig)\n",
    "\n",
    "    w = update(w, grad_w, learning_rate)\n",
    "    b = update(b, grad_b, learning_rate)"
   ]
  },
  {
   "cell_type": "code",
   "execution_count": 98,
   "id": "7bcc9579",
   "metadata": {},
   "outputs": [
    {
     "data": {
      "image/png": "[encoded data removed]",
      "text/plain": [
       "<Figure size 640x480 with 1 Axes>"
      ]
     },
     "metadata": {},
     "output_type": "display_data"
    }
   ],
   "source": [
    "# Plot Loss Curve \n",
    "plt.plot(losses)\n",
    "plt.xlabel(\"Iteration\")\n",
    "plt.ylabel(\"Log Loss\")\n",
    "plt.title(\"Training Loss on Train Set\")\n",
    "plt.grid(True)\n",
    "plt.show()"
   ]
  },
  {
   "cell_type": "code",
   "execution_count": 99,
   "id": "1f853f34",
   "metadata": {},
   "outputs": [
    {
     "name": "stdout",
     "output_type": "stream",
     "text": [
      "\n",
      "=== Classification Report (Test Set) ===\n",
      "              precision    recall  f1-score   support\n",
      "\n",
      "           0       0.81      0.89      0.85        99\n",
      "           1       0.76      0.62      0.68        55\n",
      "\n",
      "    accuracy                           0.79       154\n",
      "   macro avg       0.78      0.75      0.76       154\n",
      "weighted avg       0.79      0.79      0.79       154\n",
      "\n"
     ]
    }
   ],
   "source": [
    "# Evaluasi model pada data test\n",
    "yhat_test = predict(X_test, w, b)\n",
    "sig_test = sigmoid(yhat_test)\n",
    "ypred_test = sig_test >= 0.5\n",
    "\n",
    "print(\"\\n=== Classification Report (Test Set) ===\")\n",
    "print(classification_report(y_test, ypred_test))"
   ]
  },
  {
   "cell_type": "markdown",
   "id": "06da52e5",
   "metadata": {},
   "source": [
    "Dengan learning rate sebesar 0.01 dan iterasi 600 model Logistic Regression menghasilkan akurasi sebesar 0.79 (79%), artinya 79% dari seluruh prediksi outcome benar."
   ]
  }
 ],
 "metadata": {
  "kernelspec": {
   "display_name": "Python 3",
   "language": "python",
   "name": "python3"
  },
  "language_info": {
   "codemirror_mode": {
    "name": "ipython",
    "version": 3
   },
   "file_extension": ".py",
   "mimetype": "text/x-python",
   "name": "python",
   "nbconvert_exporter": "python",
   "pygments_lexer": "ipython3",
   "version": "3.13.5"
  }
 },
 "nbformat": 4,
 "nbformat_minor": 5
}
